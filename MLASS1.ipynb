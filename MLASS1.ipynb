{
 "cells": [
  {
   "cell_type": "code",
   "execution_count": 1,
   "id": "9897ba37",
   "metadata": {},
   "outputs": [],
   "source": [
    "import pandas as pd\n",
    "import numpy as np\n",
    "import seaborn as sns\n",
    "import matplotlib.pyplot as plt\n",
    "import pylab\n",
    "from sklearn.model_selection import train_test_split\n",
    "from sklearn import metrics\n",
    "\n",
    "from sklearn.ensemble import RandomForestRegressor\n",
    "from sklearn import metrics\n",
    "from sklearn import preprocessing"
   ]
  },
  {
   "cell_type": "markdown",
   "id": "efea5d66",
   "metadata": {},
   "source": [
    "## **Loading the Dataset**\n",
    "First we load the dataset and find out the number of columns, rows, NULL values, etc."
   ]
  },
  {
   "cell_type": "code",
   "execution_count": 2,
   "id": "b8724836",
   "metadata": {},
   "outputs": [],
   "source": [
    "df = pd.read_csv('uber.csv')"
   ]
  },
  {
   "cell_type": "code",
   "execution_count": 3,
   "id": "0f5a4410",
   "metadata": {},
   "outputs": [
    {
     "name": "stdout",
     "output_type": "stream",
     "text": [
      "<class 'pandas.core.frame.DataFrame'>\n",
      "RangeIndex: 200000 entries, 0 to 199999\n",
      "Data columns (total 9 columns):\n",
      " #   Column             Non-Null Count   Dtype  \n",
      "---  ------             --------------   -----  \n",
      " 0   Unnamed: 0         200000 non-null  int64  \n",
      " 1   key                200000 non-null  object \n",
      " 2   fare_amount        200000 non-null  float64\n",
      " 3   pickup_datetime    200000 non-null  object \n",
      " 4   pickup_longitude   200000 non-null  float64\n",
      " 5   pickup_latitude    200000 non-null  float64\n",
      " 6   dropoff_longitude  199999 non-null  float64\n",
      " 7   dropoff_latitude   199999 non-null  float64\n",
      " 8   passenger_count    200000 non-null  int64  \n",
      "dtypes: float64(5), int64(2), object(2)\n",
      "memory usage: 13.7+ MB\n"
     ]
    }
   ],
   "source": [
    "df.info()"
   ]
  },
  {
   "cell_type": "code",
   "execution_count": 4,
   "id": "7b1f87e2",
   "metadata": {
    "scrolled": true
   },
   "outputs": [
    {
     "data": {
      "text/html": [
       "<div>\n",
       "<style scoped>\n",
       "    .dataframe tbody tr th:only-of-type {\n",
       "        vertical-align: middle;\n",
       "    }\n",
       "\n",
       "    .dataframe tbody tr th {\n",
       "        vertical-align: top;\n",
       "    }\n",
       "\n",
       "    .dataframe thead th {\n",
       "        text-align: right;\n",
       "    }\n",
       "</style>\n",
       "<table border=\"1\" class=\"dataframe\">\n",
       "  <thead>\n",
       "    <tr style=\"text-align: right;\">\n",
       "      <th></th>\n",
       "      <th>Unnamed: 0</th>\n",
       "      <th>key</th>\n",
       "      <th>fare_amount</th>\n",
       "      <th>pickup_datetime</th>\n",
       "      <th>pickup_longitude</th>\n",
       "      <th>pickup_latitude</th>\n",
       "      <th>dropoff_longitude</th>\n",
       "      <th>dropoff_latitude</th>\n",
       "      <th>passenger_count</th>\n",
       "    </tr>\n",
       "  </thead>\n",
       "  <tbody>\n",
       "    <tr>\n",
       "      <th>0</th>\n",
       "      <td>24238194</td>\n",
       "      <td>2015-05-07 19:52:06.0000003</td>\n",
       "      <td>7.5</td>\n",
       "      <td>2015-05-07 19:52:06 UTC</td>\n",
       "      <td>-73.999817</td>\n",
       "      <td>40.738354</td>\n",
       "      <td>-73.999512</td>\n",
       "      <td>40.723217</td>\n",
       "      <td>1</td>\n",
       "    </tr>\n",
       "    <tr>\n",
       "      <th>1</th>\n",
       "      <td>27835199</td>\n",
       "      <td>2009-07-17 20:04:56.0000002</td>\n",
       "      <td>7.7</td>\n",
       "      <td>2009-07-17 20:04:56 UTC</td>\n",
       "      <td>-73.994355</td>\n",
       "      <td>40.728225</td>\n",
       "      <td>-73.994710</td>\n",
       "      <td>40.750325</td>\n",
       "      <td>1</td>\n",
       "    </tr>\n",
       "    <tr>\n",
       "      <th>2</th>\n",
       "      <td>44984355</td>\n",
       "      <td>2009-08-24 21:45:00.00000061</td>\n",
       "      <td>12.9</td>\n",
       "      <td>2009-08-24 21:45:00 UTC</td>\n",
       "      <td>-74.005043</td>\n",
       "      <td>40.740770</td>\n",
       "      <td>-73.962565</td>\n",
       "      <td>40.772647</td>\n",
       "      <td>1</td>\n",
       "    </tr>\n",
       "    <tr>\n",
       "      <th>3</th>\n",
       "      <td>25894730</td>\n",
       "      <td>2009-06-26 08:22:21.0000001</td>\n",
       "      <td>5.3</td>\n",
       "      <td>2009-06-26 08:22:21 UTC</td>\n",
       "      <td>-73.976124</td>\n",
       "      <td>40.790844</td>\n",
       "      <td>-73.965316</td>\n",
       "      <td>40.803349</td>\n",
       "      <td>3</td>\n",
       "    </tr>\n",
       "    <tr>\n",
       "      <th>4</th>\n",
       "      <td>17610152</td>\n",
       "      <td>2014-08-28 17:47:00.000000188</td>\n",
       "      <td>16.0</td>\n",
       "      <td>2014-08-28 17:47:00 UTC</td>\n",
       "      <td>-73.925023</td>\n",
       "      <td>40.744085</td>\n",
       "      <td>-73.973082</td>\n",
       "      <td>40.761247</td>\n",
       "      <td>5</td>\n",
       "    </tr>\n",
       "  </tbody>\n",
       "</table>\n",
       "</div>"
      ],
      "text/plain": [
       "   Unnamed: 0                            key  fare_amount  \\\n",
       "0    24238194    2015-05-07 19:52:06.0000003          7.5   \n",
       "1    27835199    2009-07-17 20:04:56.0000002          7.7   \n",
       "2    44984355   2009-08-24 21:45:00.00000061         12.9   \n",
       "3    25894730    2009-06-26 08:22:21.0000001          5.3   \n",
       "4    17610152  2014-08-28 17:47:00.000000188         16.0   \n",
       "\n",
       "           pickup_datetime  pickup_longitude  pickup_latitude  \\\n",
       "0  2015-05-07 19:52:06 UTC        -73.999817        40.738354   \n",
       "1  2009-07-17 20:04:56 UTC        -73.994355        40.728225   \n",
       "2  2009-08-24 21:45:00 UTC        -74.005043        40.740770   \n",
       "3  2009-06-26 08:22:21 UTC        -73.976124        40.790844   \n",
       "4  2014-08-28 17:47:00 UTC        -73.925023        40.744085   \n",
       "\n",
       "   dropoff_longitude  dropoff_latitude  passenger_count  \n",
       "0         -73.999512         40.723217                1  \n",
       "1         -73.994710         40.750325                1  \n",
       "2         -73.962565         40.772647                1  \n",
       "3         -73.965316         40.803349                3  \n",
       "4         -73.973082         40.761247                5  "
      ]
     },
     "execution_count": 4,
     "metadata": {},
     "output_type": "execute_result"
    }
   ],
   "source": [
    "df.head()"
   ]
  },
  {
   "cell_type": "code",
   "execution_count": 5,
   "id": "87ff64de",
   "metadata": {},
   "outputs": [
    {
     "data": {
      "text/html": [
       "<div>\n",
       "<style scoped>\n",
       "    .dataframe tbody tr th:only-of-type {\n",
       "        vertical-align: middle;\n",
       "    }\n",
       "\n",
       "    .dataframe tbody tr th {\n",
       "        vertical-align: top;\n",
       "    }\n",
       "\n",
       "    .dataframe thead th {\n",
       "        text-align: right;\n",
       "    }\n",
       "</style>\n",
       "<table border=\"1\" class=\"dataframe\">\n",
       "  <thead>\n",
       "    <tr style=\"text-align: right;\">\n",
       "      <th></th>\n",
       "      <th>Unnamed: 0</th>\n",
       "      <th>fare_amount</th>\n",
       "      <th>pickup_longitude</th>\n",
       "      <th>pickup_latitude</th>\n",
       "      <th>dropoff_longitude</th>\n",
       "      <th>dropoff_latitude</th>\n",
       "      <th>passenger_count</th>\n",
       "    </tr>\n",
       "  </thead>\n",
       "  <tbody>\n",
       "    <tr>\n",
       "      <th>count</th>\n",
       "      <td>2.000000e+05</td>\n",
       "      <td>200000.000000</td>\n",
       "      <td>200000.000000</td>\n",
       "      <td>200000.000000</td>\n",
       "      <td>199999.000000</td>\n",
       "      <td>199999.000000</td>\n",
       "      <td>200000.000000</td>\n",
       "    </tr>\n",
       "    <tr>\n",
       "      <th>mean</th>\n",
       "      <td>2.771250e+07</td>\n",
       "      <td>11.359955</td>\n",
       "      <td>-72.527638</td>\n",
       "      <td>39.935885</td>\n",
       "      <td>-72.525292</td>\n",
       "      <td>39.923890</td>\n",
       "      <td>1.684535</td>\n",
       "    </tr>\n",
       "    <tr>\n",
       "      <th>std</th>\n",
       "      <td>1.601382e+07</td>\n",
       "      <td>9.901776</td>\n",
       "      <td>11.437787</td>\n",
       "      <td>7.720539</td>\n",
       "      <td>13.117408</td>\n",
       "      <td>6.794829</td>\n",
       "      <td>1.385997</td>\n",
       "    </tr>\n",
       "    <tr>\n",
       "      <th>min</th>\n",
       "      <td>1.000000e+00</td>\n",
       "      <td>-52.000000</td>\n",
       "      <td>-1340.648410</td>\n",
       "      <td>-74.015515</td>\n",
       "      <td>-3356.666300</td>\n",
       "      <td>-881.985513</td>\n",
       "      <td>0.000000</td>\n",
       "    </tr>\n",
       "    <tr>\n",
       "      <th>25%</th>\n",
       "      <td>1.382535e+07</td>\n",
       "      <td>6.000000</td>\n",
       "      <td>-73.992065</td>\n",
       "      <td>40.734796</td>\n",
       "      <td>-73.991407</td>\n",
       "      <td>40.733823</td>\n",
       "      <td>1.000000</td>\n",
       "    </tr>\n",
       "    <tr>\n",
       "      <th>50%</th>\n",
       "      <td>2.774550e+07</td>\n",
       "      <td>8.500000</td>\n",
       "      <td>-73.981823</td>\n",
       "      <td>40.752592</td>\n",
       "      <td>-73.980093</td>\n",
       "      <td>40.753042</td>\n",
       "      <td>1.000000</td>\n",
       "    </tr>\n",
       "    <tr>\n",
       "      <th>75%</th>\n",
       "      <td>4.155530e+07</td>\n",
       "      <td>12.500000</td>\n",
       "      <td>-73.967154</td>\n",
       "      <td>40.767158</td>\n",
       "      <td>-73.963658</td>\n",
       "      <td>40.768001</td>\n",
       "      <td>2.000000</td>\n",
       "    </tr>\n",
       "    <tr>\n",
       "      <th>max</th>\n",
       "      <td>5.542357e+07</td>\n",
       "      <td>499.000000</td>\n",
       "      <td>57.418457</td>\n",
       "      <td>1644.421482</td>\n",
       "      <td>1153.572603</td>\n",
       "      <td>872.697628</td>\n",
       "      <td>208.000000</td>\n",
       "    </tr>\n",
       "  </tbody>\n",
       "</table>\n",
       "</div>"
      ],
      "text/plain": [
       "         Unnamed: 0    fare_amount  pickup_longitude  pickup_latitude  \\\n",
       "count  2.000000e+05  200000.000000     200000.000000    200000.000000   \n",
       "mean   2.771250e+07      11.359955        -72.527638        39.935885   \n",
       "std    1.601382e+07       9.901776         11.437787         7.720539   \n",
       "min    1.000000e+00     -52.000000      -1340.648410       -74.015515   \n",
       "25%    1.382535e+07       6.000000        -73.992065        40.734796   \n",
       "50%    2.774550e+07       8.500000        -73.981823        40.752592   \n",
       "75%    4.155530e+07      12.500000        -73.967154        40.767158   \n",
       "max    5.542357e+07     499.000000         57.418457      1644.421482   \n",
       "\n",
       "       dropoff_longitude  dropoff_latitude  passenger_count  \n",
       "count      199999.000000     199999.000000    200000.000000  \n",
       "mean          -72.525292         39.923890         1.684535  \n",
       "std            13.117408          6.794829         1.385997  \n",
       "min         -3356.666300       -881.985513         0.000000  \n",
       "25%           -73.991407         40.733823         1.000000  \n",
       "50%           -73.980093         40.753042         1.000000  \n",
       "75%           -73.963658         40.768001         2.000000  \n",
       "max          1153.572603        872.697628       208.000000  "
      ]
     },
     "execution_count": 5,
     "metadata": {},
     "output_type": "execute_result"
    }
   ],
   "source": [
    "df.describe()"
   ]
  },
  {
   "cell_type": "markdown",
   "id": "8ec1361e",
   "metadata": {},
   "source": [
    "## **Cleaning**"
   ]
  },
  {
   "cell_type": "code",
   "execution_count": 6,
   "id": "97b66287",
   "metadata": {},
   "outputs": [],
   "source": [
    "df = df.drop(['Unnamed: 0', 'key'], axis=1)"
   ]
  },
  {
   "cell_type": "code",
   "execution_count": 7,
   "id": "3064950e",
   "metadata": {},
   "outputs": [
    {
     "data": {
      "text/plain": [
       "fare_amount          0\n",
       "pickup_datetime      0\n",
       "pickup_longitude     0\n",
       "pickup_latitude      0\n",
       "dropoff_longitude    1\n",
       "dropoff_latitude     1\n",
       "passenger_count      0\n",
       "dtype: int64"
      ]
     },
     "execution_count": 7,
     "metadata": {},
     "output_type": "execute_result"
    }
   ],
   "source": [
    "df.isna().sum()"
   ]
  },
  {
   "cell_type": "markdown",
   "id": "96d045bd",
   "metadata": {},
   "source": [
    "#### Remove null rows"
   ]
  },
  {
   "cell_type": "code",
   "execution_count": 8,
   "id": "76fed0c4",
   "metadata": {
    "scrolled": true
   },
   "outputs": [],
   "source": [
    "df.dropna(axis=0,inplace=True)"
   ]
  },
  {
   "cell_type": "code",
   "execution_count": 9,
   "id": "0c600825",
   "metadata": {},
   "outputs": [
    {
     "data": {
      "text/plain": [
       "fare_amount          float64\n",
       "pickup_datetime       object\n",
       "pickup_longitude     float64\n",
       "pickup_latitude      float64\n",
       "dropoff_longitude    float64\n",
       "dropoff_latitude     float64\n",
       "passenger_count        int64\n",
       "dtype: object"
      ]
     },
     "execution_count": 9,
     "metadata": {},
     "output_type": "execute_result"
    }
   ],
   "source": [
    "df.dtypes"
   ]
  },
  {
   "cell_type": "markdown",
   "id": "7d62ce74",
   "metadata": {},
   "source": [
    "#### Fix data type of `pickup_datetime` from `Object` to `DateTime`"
   ]
  },
  {
   "cell_type": "code",
   "execution_count": 10,
   "id": "855d7cba",
   "metadata": {},
   "outputs": [],
   "source": [
    "df.pickup_datetime = pd.to_datetime(df.pickup_datetime, errors='coerce') "
   ]
  },
  {
   "cell_type": "markdown",
   "id": "0d155e35",
   "metadata": {},
   "source": [
    "#### Separating the date and time into separate columns for more usability."
   ]
  },
  {
   "cell_type": "code",
   "execution_count": 11,
   "id": "215384c0",
   "metadata": {},
   "outputs": [],
   "source": [
    "df= df.assign(\n",
    "    second = df.pickup_datetime.dt.second,\n",
    "    minute = df.pickup_datetime.dt.minute,\n",
    "    hour = df.pickup_datetime.dt.hour,\n",
    "    day= df.pickup_datetime.dt.day,\n",
    "    month = df.pickup_datetime.dt.month,\n",
    "    year = df.pickup_datetime.dt.year,\n",
    "    dayofweek = df.pickup_datetime.dt.dayofweek\n",
    ")\n",
    "df = df.drop('pickup_datetime',axis=1)"
   ]
  },
  {
   "cell_type": "code",
   "execution_count": 12,
   "id": "897f6244",
   "metadata": {},
   "outputs": [
    {
     "name": "stdout",
     "output_type": "stream",
     "text": [
      "<class 'pandas.core.frame.DataFrame'>\n",
      "Int64Index: 199999 entries, 0 to 199999\n",
      "Data columns (total 13 columns):\n",
      " #   Column             Non-Null Count   Dtype  \n",
      "---  ------             --------------   -----  \n",
      " 0   fare_amount        199999 non-null  float64\n",
      " 1   pickup_longitude   199999 non-null  float64\n",
      " 2   pickup_latitude    199999 non-null  float64\n",
      " 3   dropoff_longitude  199999 non-null  float64\n",
      " 4   dropoff_latitude   199999 non-null  float64\n",
      " 5   passenger_count    199999 non-null  int64  \n",
      " 6   second             199999 non-null  int64  \n",
      " 7   minute             199999 non-null  int64  \n",
      " 8   hour               199999 non-null  int64  \n",
      " 9   day                199999 non-null  int64  \n",
      " 10  month              199999 non-null  int64  \n",
      " 11  year               199999 non-null  int64  \n",
      " 12  dayofweek          199999 non-null  int64  \n",
      "dtypes: float64(5), int64(8)\n",
      "memory usage: 21.4 MB\n"
     ]
    }
   ],
   "source": [
    "df.info()"
   ]
  },
  {
   "cell_type": "code",
   "execution_count": 13,
   "id": "d2c271c0",
   "metadata": {
    "scrolled": true
   },
   "outputs": [
    {
     "data": {
      "text/html": [
       "<div>\n",
       "<style scoped>\n",
       "    .dataframe tbody tr th:only-of-type {\n",
       "        vertical-align: middle;\n",
       "    }\n",
       "\n",
       "    .dataframe tbody tr th {\n",
       "        vertical-align: top;\n",
       "    }\n",
       "\n",
       "    .dataframe thead th {\n",
       "        text-align: right;\n",
       "    }\n",
       "</style>\n",
       "<table border=\"1\" class=\"dataframe\">\n",
       "  <thead>\n",
       "    <tr style=\"text-align: right;\">\n",
       "      <th></th>\n",
       "      <th>fare_amount</th>\n",
       "      <th>pickup_longitude</th>\n",
       "      <th>pickup_latitude</th>\n",
       "      <th>dropoff_longitude</th>\n",
       "      <th>dropoff_latitude</th>\n",
       "      <th>passenger_count</th>\n",
       "      <th>second</th>\n",
       "      <th>minute</th>\n",
       "      <th>hour</th>\n",
       "      <th>day</th>\n",
       "      <th>month</th>\n",
       "      <th>year</th>\n",
       "      <th>dayofweek</th>\n",
       "    </tr>\n",
       "  </thead>\n",
       "  <tbody>\n",
       "    <tr>\n",
       "      <th>0</th>\n",
       "      <td>7.5</td>\n",
       "      <td>-73.999817</td>\n",
       "      <td>40.738354</td>\n",
       "      <td>-73.999512</td>\n",
       "      <td>40.723217</td>\n",
       "      <td>1</td>\n",
       "      <td>6</td>\n",
       "      <td>52</td>\n",
       "      <td>19</td>\n",
       "      <td>7</td>\n",
       "      <td>5</td>\n",
       "      <td>2015</td>\n",
       "      <td>3</td>\n",
       "    </tr>\n",
       "    <tr>\n",
       "      <th>1</th>\n",
       "      <td>7.7</td>\n",
       "      <td>-73.994355</td>\n",
       "      <td>40.728225</td>\n",
       "      <td>-73.994710</td>\n",
       "      <td>40.750325</td>\n",
       "      <td>1</td>\n",
       "      <td>56</td>\n",
       "      <td>4</td>\n",
       "      <td>20</td>\n",
       "      <td>17</td>\n",
       "      <td>7</td>\n",
       "      <td>2009</td>\n",
       "      <td>4</td>\n",
       "    </tr>\n",
       "    <tr>\n",
       "      <th>2</th>\n",
       "      <td>12.9</td>\n",
       "      <td>-74.005043</td>\n",
       "      <td>40.740770</td>\n",
       "      <td>-73.962565</td>\n",
       "      <td>40.772647</td>\n",
       "      <td>1</td>\n",
       "      <td>0</td>\n",
       "      <td>45</td>\n",
       "      <td>21</td>\n",
       "      <td>24</td>\n",
       "      <td>8</td>\n",
       "      <td>2009</td>\n",
       "      <td>0</td>\n",
       "    </tr>\n",
       "    <tr>\n",
       "      <th>3</th>\n",
       "      <td>5.3</td>\n",
       "      <td>-73.976124</td>\n",
       "      <td>40.790844</td>\n",
       "      <td>-73.965316</td>\n",
       "      <td>40.803349</td>\n",
       "      <td>3</td>\n",
       "      <td>21</td>\n",
       "      <td>22</td>\n",
       "      <td>8</td>\n",
       "      <td>26</td>\n",
       "      <td>6</td>\n",
       "      <td>2009</td>\n",
       "      <td>4</td>\n",
       "    </tr>\n",
       "    <tr>\n",
       "      <th>4</th>\n",
       "      <td>16.0</td>\n",
       "      <td>-73.925023</td>\n",
       "      <td>40.744085</td>\n",
       "      <td>-73.973082</td>\n",
       "      <td>40.761247</td>\n",
       "      <td>5</td>\n",
       "      <td>0</td>\n",
       "      <td>47</td>\n",
       "      <td>17</td>\n",
       "      <td>28</td>\n",
       "      <td>8</td>\n",
       "      <td>2014</td>\n",
       "      <td>3</td>\n",
       "    </tr>\n",
       "  </tbody>\n",
       "</table>\n",
       "</div>"
      ],
      "text/plain": [
       "   fare_amount  pickup_longitude  pickup_latitude  dropoff_longitude  \\\n",
       "0          7.5        -73.999817        40.738354         -73.999512   \n",
       "1          7.7        -73.994355        40.728225         -73.994710   \n",
       "2         12.9        -74.005043        40.740770         -73.962565   \n",
       "3          5.3        -73.976124        40.790844         -73.965316   \n",
       "4         16.0        -73.925023        40.744085         -73.973082   \n",
       "\n",
       "   dropoff_latitude  passenger_count  second  minute  hour  day  month  year  \\\n",
       "0         40.723217                1       6      52    19    7      5  2015   \n",
       "1         40.750325                1      56       4    20   17      7  2009   \n",
       "2         40.772647                1       0      45    21   24      8  2009   \n",
       "3         40.803349                3      21      22     8   26      6  2009   \n",
       "4         40.761247                5       0      47    17   28      8  2014   \n",
       "\n",
       "   dayofweek  \n",
       "0          3  \n",
       "1          4  \n",
       "2          0  \n",
       "3          4  \n",
       "4          3  "
      ]
     },
     "execution_count": 13,
     "metadata": {},
     "output_type": "execute_result"
    }
   ],
   "source": [
    "df.head()"
   ]
  },
  {
   "cell_type": "markdown",
   "id": "09d0128a",
   "metadata": {},
   "source": [
    "## **Haversine Formula**\n",
    "Calculatin the distance between the pickup and drop co-ordinates using the Haversine formual for accuracy.\n",
    "\n",
    "![](https://www.geeksforgeeks.org/wp-content/ql-cache/quicklatex.com-7b7d66229e4a0b6c7bbf52b95a807dc4_l3.svg)"
   ]
  },
  {
   "cell_type": "code",
   "execution_count": 14,
   "id": "242b1050",
   "metadata": {},
   "outputs": [],
   "source": [
    "incorrect_coordinates = df.loc[\n",
    "    (df.pickup_latitude > 90) |(df.pickup_latitude < -90) |\n",
    "    (df.dropoff_latitude > 90) |(df.dropoff_latitude < -90) |\n",
    "    (df.pickup_longitude > 180) |(df.pickup_longitude < -180) |\n",
    "    (df.dropoff_longitude > 90) |(df.dropoff_longitude < -90)\n",
    "]\n",
    "\n",
    "df.drop(incorrect_coordinates, inplace = True, errors = 'ignore')"
   ]
  },
  {
   "cell_type": "code",
   "execution_count": 15,
   "id": "dd5bf996",
   "metadata": {},
   "outputs": [],
   "source": [
    "def distance_transform(longitude1, latitude1, longitude2, latitude2):\n",
    "    long1, lati1, long2, lati2 = map(np.radians, [longitude1, latitude1, longitude2, latitude2])\n",
    "    dist_long = long2 - long1\n",
    "    dist_lati = lati2 - lati1\n",
    "    a = np.sin(dist_lati/2)**2 + np.cos(lati1) * np.cos(lati2) * np.sin(dist_long/2)**2\n",
    "    c = 2 * np.arcsin(np.sqrt(a)) * 6371\n",
    "    # long1,lati1,long2,lati2 = longitude1[pos],latitude1[pos],longitude2[pos],latitude2[pos]\n",
    "    # c = sqrt((long2 - long1) ** 2 + (lati2 - lati1) ** 2)asin \n",
    "       \n",
    "    return c"
   ]
  },
  {
   "cell_type": "code",
   "execution_count": 16,
   "id": "7481b53e",
   "metadata": {
    "scrolled": false
   },
   "outputs": [],
   "source": [
    "df['Distance'] = distance_transform(\n",
    "    df['pickup_longitude'],\n",
    "    df['pickup_latitude'],\n",
    "    df['dropoff_longitude'],\n",
    "    df['dropoff_latitude']\n",
    ")"
   ]
  },
  {
   "cell_type": "code",
   "execution_count": 17,
   "id": "1ef0e538",
   "metadata": {
    "scrolled": true
   },
   "outputs": [
    {
     "data": {
      "text/html": [
       "<div>\n",
       "<style scoped>\n",
       "    .dataframe tbody tr th:only-of-type {\n",
       "        vertical-align: middle;\n",
       "    }\n",
       "\n",
       "    .dataframe tbody tr th {\n",
       "        vertical-align: top;\n",
       "    }\n",
       "\n",
       "    .dataframe thead th {\n",
       "        text-align: right;\n",
       "    }\n",
       "</style>\n",
       "<table border=\"1\" class=\"dataframe\">\n",
       "  <thead>\n",
       "    <tr style=\"text-align: right;\">\n",
       "      <th></th>\n",
       "      <th>fare_amount</th>\n",
       "      <th>pickup_longitude</th>\n",
       "      <th>pickup_latitude</th>\n",
       "      <th>dropoff_longitude</th>\n",
       "      <th>dropoff_latitude</th>\n",
       "      <th>passenger_count</th>\n",
       "      <th>second</th>\n",
       "      <th>minute</th>\n",
       "      <th>hour</th>\n",
       "      <th>day</th>\n",
       "      <th>month</th>\n",
       "      <th>year</th>\n",
       "      <th>dayofweek</th>\n",
       "      <th>Distance</th>\n",
       "    </tr>\n",
       "  </thead>\n",
       "  <tbody>\n",
       "    <tr>\n",
       "      <th>0</th>\n",
       "      <td>7.5</td>\n",
       "      <td>-73.999817</td>\n",
       "      <td>40.738354</td>\n",
       "      <td>-73.999512</td>\n",
       "      <td>40.723217</td>\n",
       "      <td>1</td>\n",
       "      <td>6</td>\n",
       "      <td>52</td>\n",
       "      <td>19</td>\n",
       "      <td>7</td>\n",
       "      <td>5</td>\n",
       "      <td>2015</td>\n",
       "      <td>3</td>\n",
       "      <td>1.683323</td>\n",
       "    </tr>\n",
       "    <tr>\n",
       "      <th>1</th>\n",
       "      <td>7.7</td>\n",
       "      <td>-73.994355</td>\n",
       "      <td>40.728225</td>\n",
       "      <td>-73.994710</td>\n",
       "      <td>40.750325</td>\n",
       "      <td>1</td>\n",
       "      <td>56</td>\n",
       "      <td>4</td>\n",
       "      <td>20</td>\n",
       "      <td>17</td>\n",
       "      <td>7</td>\n",
       "      <td>2009</td>\n",
       "      <td>4</td>\n",
       "      <td>2.457590</td>\n",
       "    </tr>\n",
       "    <tr>\n",
       "      <th>2</th>\n",
       "      <td>12.9</td>\n",
       "      <td>-74.005043</td>\n",
       "      <td>40.740770</td>\n",
       "      <td>-73.962565</td>\n",
       "      <td>40.772647</td>\n",
       "      <td>1</td>\n",
       "      <td>0</td>\n",
       "      <td>45</td>\n",
       "      <td>21</td>\n",
       "      <td>24</td>\n",
       "      <td>8</td>\n",
       "      <td>2009</td>\n",
       "      <td>0</td>\n",
       "      <td>5.036377</td>\n",
       "    </tr>\n",
       "    <tr>\n",
       "      <th>3</th>\n",
       "      <td>5.3</td>\n",
       "      <td>-73.976124</td>\n",
       "      <td>40.790844</td>\n",
       "      <td>-73.965316</td>\n",
       "      <td>40.803349</td>\n",
       "      <td>3</td>\n",
       "      <td>21</td>\n",
       "      <td>22</td>\n",
       "      <td>8</td>\n",
       "      <td>26</td>\n",
       "      <td>6</td>\n",
       "      <td>2009</td>\n",
       "      <td>4</td>\n",
       "      <td>1.661683</td>\n",
       "    </tr>\n",
       "    <tr>\n",
       "      <th>4</th>\n",
       "      <td>16.0</td>\n",
       "      <td>-73.925023</td>\n",
       "      <td>40.744085</td>\n",
       "      <td>-73.973082</td>\n",
       "      <td>40.761247</td>\n",
       "      <td>5</td>\n",
       "      <td>0</td>\n",
       "      <td>47</td>\n",
       "      <td>17</td>\n",
       "      <td>28</td>\n",
       "      <td>8</td>\n",
       "      <td>2014</td>\n",
       "      <td>3</td>\n",
       "      <td>4.475450</td>\n",
       "    </tr>\n",
       "  </tbody>\n",
       "</table>\n",
       "</div>"
      ],
      "text/plain": [
       "   fare_amount  pickup_longitude  pickup_latitude  dropoff_longitude  \\\n",
       "0          7.5        -73.999817        40.738354         -73.999512   \n",
       "1          7.7        -73.994355        40.728225         -73.994710   \n",
       "2         12.9        -74.005043        40.740770         -73.962565   \n",
       "3          5.3        -73.976124        40.790844         -73.965316   \n",
       "4         16.0        -73.925023        40.744085         -73.973082   \n",
       "\n",
       "   dropoff_latitude  passenger_count  second  minute  hour  day  month  year  \\\n",
       "0         40.723217                1       6      52    19    7      5  2015   \n",
       "1         40.750325                1      56       4    20   17      7  2009   \n",
       "2         40.772647                1       0      45    21   24      8  2009   \n",
       "3         40.803349                3      21      22     8   26      6  2009   \n",
       "4         40.761247                5       0      47    17   28      8  2014   \n",
       "\n",
       "   dayofweek  Distance  \n",
       "0          3  1.683323  \n",
       "1          4  2.457590  \n",
       "2          0  5.036377  \n",
       "3          4  1.661683  \n",
       "4          3  4.475450  "
      ]
     },
     "execution_count": 17,
     "metadata": {},
     "output_type": "execute_result"
    }
   ],
   "source": [
    "df.head()"
   ]
  },
  {
   "cell_type": "markdown",
   "id": "89fb9b52",
   "metadata": {},
   "source": [
    "## **Outliers**\n",
    "We can get rid of the trips with very large distances that are outliers as well as trips with 0 distance."
   ]
  },
  {
   "cell_type": "code",
   "execution_count": 18,
   "id": "97880e80",
   "metadata": {},
   "outputs": [
    {
     "data": {
      "text/plain": [
       "Text(0, 0.5, 'fare_amount')"
      ]
     },
     "execution_count": 18,
     "metadata": {},
     "output_type": "execute_result"
    },
    {
     "data": {
      "image/png": "[encoded data removed]",
      "text/plain": [
       "<Figure size 432x288 with 1 Axes>"
      ]
     },
     "metadata": {
      "needs_background": "light"
     },
     "output_type": "display_data"
    }
   ],
   "source": [
    "plt.scatter(df['Distance'], df['fare_amount'])\n",
    "plt.xlabel(\"Distance\")\n",
    "plt.ylabel(\"fare_amount\")"
   ]
  },
  {
   "cell_type": "code",
   "execution_count": 19,
   "id": "9b50563b",
   "metadata": {},
   "outputs": [
    {
     "data": {
      "text/plain": [
       "<AxesSubplot:>"
      ]
     },
     "execution_count": 19,
     "metadata": {},
     "output_type": "execute_result"
    },
    {
     "data": {
      "image/png": "[encoded data removed]",
      "text/plain": [
       "<Figure size 1440x864 with 1 Axes>"
      ]
     },
     "metadata": {
      "needs_background": "light"
     },
     "output_type": "display_data"
    }
   ],
   "source": [
    "plt.figure(figsize=(20,12))\n",
    "sns.boxplot(data = df)"
   ]
  },
  {
   "cell_type": "code",
   "execution_count": 20,
   "id": "3a832cc6",
   "metadata": {},
   "outputs": [],
   "source": [
    "df.drop(df[df['Distance'] >= 60].index, inplace = True)\n",
    "df.drop(df[df['fare_amount'] <= 0].index, inplace = True)\n",
    "\n",
    "df.drop(df[(df['fare_amount']>100) & (df['Distance']<1)].index, inplace = True )\n",
    "df.drop(df[(df['fare_amount']<100) & (df['Distance']>100)].index, inplace = True )"
   ]
  },
  {
   "cell_type": "code",
   "execution_count": 21,
   "id": "1fa96f5a",
   "metadata": {
    "scrolled": true
   },
   "outputs": [
    {
     "data": {
      "text/plain": [
       "Text(0, 0.5, 'fare_amount')"
      ]
     },
     "execution_count": 21,
     "metadata": {},
     "output_type": "execute_result"
    },
    {
     "data": {
      "image/png": "[encoded data removed]",
      "text/plain": [
       "<Figure size 432x288 with 1 Axes>"
      ]
     },
     "metadata": {
      "needs_background": "light"
     },
     "output_type": "display_data"
    }
   ],
   "source": [
    "plt.scatter(df['Distance'], df['fare_amount'])\n",
    "plt.xlabel(\"Distance\")\n",
    "plt.ylabel(\"fare_amount\")"
   ]
  },
  {
   "cell_type": "markdown",
   "id": "322f27f3",
   "metadata": {},
   "source": [
    "## **Coorelation Matrix**\n",
    "To find the two variables that have the most inter-dependence"
   ]
  },
  {
   "cell_type": "code",
   "execution_count": 22,
   "id": "0ec7fe70",
   "metadata": {},
   "outputs": [
    {
     "data": {
      "text/html": [
       "<style type=\"text/css\">\n",
       "#T_b3cc4_row0_col0, #T_b3cc4_row1_col1, #T_b3cc4_row1_col3, #T_b3cc4_row2_col2, #T_b3cc4_row3_col1, #T_b3cc4_row3_col3, #T_b3cc4_row4_col4, #T_b3cc4_row5_col5, #T_b3cc4_row6_col6, #T_b3cc4_row7_col7, #T_b3cc4_row8_col8, #T_b3cc4_row9_col9, #T_b3cc4_row10_col10, #T_b3cc4_row11_col11, #T_b3cc4_row12_col12, #T_b3cc4_row13_col13 {\n",
       "  background-color: #00441b;\n",
       "  color: #f1f1f1;\n",
       "}\n",
       "#T_b3cc4_row0_col1, #T_b3cc4_row0_col3, #T_b3cc4_row7_col1, #T_b3cc4_row7_col3, #T_b3cc4_row8_col1, #T_b3cc4_row8_col3, #T_b3cc4_row9_col1, #T_b3cc4_row9_col3, #T_b3cc4_row10_col4, #T_b3cc4_row11_col1, #T_b3cc4_row11_col3, #T_b3cc4_row12_col1, #T_b3cc4_row12_col3 {\n",
       "  background-color: #67c2a5;\n",
       "  color: #000000;\n",
       "}\n",
       "#T_b3cc4_row0_col2, #T_b3cc4_row7_col2, #T_b3cc4_row9_col2, #T_b3cc4_row9_col4, #T_b3cc4_row11_col2, #T_b3cc4_row11_col4, #T_b3cc4_row12_col2 {\n",
       "  background-color: #6ac4a7;\n",
       "  color: #000000;\n",
       "}\n",
       "#T_b3cc4_row0_col4, #T_b3cc4_row5_col1, #T_b3cc4_row5_col2, #T_b3cc4_row5_col3, #T_b3cc4_row5_col4, #T_b3cc4_row7_col4, #T_b3cc4_row8_col2, #T_b3cc4_row8_col4, #T_b3cc4_row10_col1, #T_b3cc4_row10_col2, #T_b3cc4_row10_col3, #T_b3cc4_row12_col4 {\n",
       "  background-color: #68c3a6;\n",
       "  color: #000000;\n",
       "}\n",
       "#T_b3cc4_row0_col5, #T_b3cc4_row6_col11, #T_b3cc4_row10_col5 {\n",
       "  background-color: #dbf1f1;\n",
       "  color: #000000;\n",
       "}\n",
       "#T_b3cc4_row0_col6, #T_b3cc4_row2_col5, #T_b3cc4_row4_col5, #T_b3cc4_row9_col6 {\n",
       "  background-color: #ddf2f3;\n",
       "  color: #000000;\n",
       "}\n",
       "#T_b3cc4_row0_col7, #T_b3cc4_row1_col2, #T_b3cc4_row1_col4, #T_b3cc4_row1_col13, #T_b3cc4_row3_col2, #T_b3cc4_row3_col4, #T_b3cc4_row3_col13, #T_b3cc4_row4_col1, #T_b3cc4_row4_col3, #T_b3cc4_row5_col6, #T_b3cc4_row6_col5, #T_b3cc4_row8_col0, #T_b3cc4_row8_col12, #T_b3cc4_row10_col9, #T_b3cc4_row10_col11, #T_b3cc4_row11_col10, #T_b3cc4_row12_col8, #T_b3cc4_row13_col7 {\n",
       "  background-color: #f7fcfd;\n",
       "  color: #000000;\n",
       "}\n",
       "#T_b3cc4_row0_col8, #T_b3cc4_row6_col10 {\n",
       "  background-color: #eff9fb;\n",
       "  color: #000000;\n",
       "}\n",
       "#T_b3cc4_row0_col9, #T_b3cc4_row6_col0, #T_b3cc4_row7_col9, #T_b3cc4_row13_col9 {\n",
       "  background-color: #f5fbfc;\n",
       "  color: #000000;\n",
       "}\n",
       "#T_b3cc4_row0_col10, #T_b3cc4_row10_col6 {\n",
       "  background-color: #e5f5f9;\n",
       "  color: #000000;\n",
       "}\n",
       "#T_b3cc4_row0_col11 {\n",
       "  background-color: #d4efec;\n",
       "  color: #000000;\n",
       "}\n",
       "#T_b3cc4_row0_col12, #T_b3cc4_row1_col12, #T_b3cc4_row3_col12, #T_b3cc4_row9_col8, #T_b3cc4_row9_col10, #T_b3cc4_row9_col12, #T_b3cc4_row11_col12 {\n",
       "  background-color: #ebf7fa;\n",
       "  color: #000000;\n",
       "}\n",
       "#T_b3cc4_row0_col13 {\n",
       "  background-color: #006d2c;\n",
       "  color: #f1f1f1;\n",
       "}\n",
       "#T_b3cc4_row1_col0, #T_b3cc4_row1_col9, #T_b3cc4_row3_col0, #T_b3cc4_row3_col9, #T_b3cc4_row5_col9, #T_b3cc4_row8_col9, #T_b3cc4_row9_col0, #T_b3cc4_row12_col0, #T_b3cc4_row12_col9 {\n",
       "  background-color: #f4fbfc;\n",
       "  color: #000000;\n",
       "}\n",
       "#T_b3cc4_row1_col5, #T_b3cc4_row3_col5, #T_b3cc4_row7_col5, #T_b3cc4_row7_col6, #T_b3cc4_row9_col5, #T_b3cc4_row12_col6, #T_b3cc4_row13_col6 {\n",
       "  background-color: #dcf2f2;\n",
       "  color: #000000;\n",
       "}\n",
       "#T_b3cc4_row1_col6, #T_b3cc4_row3_col6, #T_b3cc4_row8_col6 {\n",
       "  background-color: #dff3f4;\n",
       "  color: #000000;\n",
       "}\n",
       "#T_b3cc4_row1_col7, #T_b3cc4_row2_col1, #T_b3cc4_row2_col3, #T_b3cc4_row2_col7, #T_b3cc4_row2_col9, #T_b3cc4_row3_col7, #T_b3cc4_row4_col7, #T_b3cc4_row4_col9, #T_b3cc4_row5_col7, #T_b3cc4_row6_col7, #T_b3cc4_row8_col7, #T_b3cc4_row9_col7, #T_b3cc4_row10_col7, #T_b3cc4_row11_col7, #T_b3cc4_row11_col9, #T_b3cc4_row12_col7 {\n",
       "  background-color: #f6fcfd;\n",
       "  color: #000000;\n",
       "}\n",
       "#T_b3cc4_row1_col8, #T_b3cc4_row2_col8, #T_b3cc4_row3_col8, #T_b3cc4_row4_col8, #T_b3cc4_row6_col12, #T_b3cc4_row7_col8, #T_b3cc4_row11_col8 {\n",
       "  background-color: #ecf8fa;\n",
       "  color: #000000;\n",
       "}\n",
       "#T_b3cc4_row1_col10, #T_b3cc4_row2_col11, #T_b3cc4_row3_col10, #T_b3cc4_row4_col11, #T_b3cc4_row7_col11, #T_b3cc4_row7_col13, #T_b3cc4_row8_col10, #T_b3cc4_row12_col10, #T_b3cc4_row13_col12 {\n",
       "  background-color: #e9f7fa;\n",
       "  color: #000000;\n",
       "}\n",
       "#T_b3cc4_row1_col11, #T_b3cc4_row2_col10, #T_b3cc4_row3_col11, #T_b3cc4_row4_col10, #T_b3cc4_row5_col11, #T_b3cc4_row6_col13, #T_b3cc4_row7_col10, #T_b3cc4_row8_col11, #T_b3cc4_row9_col13, #T_b3cc4_row12_col11 {\n",
       "  background-color: #e8f6fa;\n",
       "  color: #000000;\n",
       "}\n",
       "#T_b3cc4_row2_col0, #T_b3cc4_row4_col0, #T_b3cc4_row6_col9, #T_b3cc4_row7_col0 {\n",
       "  background-color: #f5fbfd;\n",
       "  color: #000000;\n",
       "}\n",
       "#T_b3cc4_row2_col4, #T_b3cc4_row4_col2 {\n",
       "  background-color: #00451c;\n",
       "  color: #f1f1f1;\n",
       "}\n",
       "#T_b3cc4_row2_col6, #T_b3cc4_row4_col6, #T_b3cc4_row8_col5 {\n",
       "  background-color: #daf1f1;\n",
       "  color: #000000;\n",
       "}\n",
       "#T_b3cc4_row2_col12, #T_b3cc4_row4_col12, #T_b3cc4_row7_col12, #T_b3cc4_row8_col13, #T_b3cc4_row10_col8 {\n",
       "  background-color: #ecf8fb;\n",
       "  color: #000000;\n",
       "}\n",
       "#T_b3cc4_row2_col13 {\n",
       "  background-color: #d5efed;\n",
       "  color: #000000;\n",
       "}\n",
       "#T_b3cc4_row4_col13 {\n",
       "  background-color: #d6f0ee;\n",
       "  color: #000000;\n",
       "}\n",
       "#T_b3cc4_row5_col0 {\n",
       "  background-color: #f2fafc;\n",
       "  color: #000000;\n",
       "}\n",
       "#T_b3cc4_row5_col8, #T_b3cc4_row9_col11 {\n",
       "  background-color: #eaf7fa;\n",
       "  color: #000000;\n",
       "}\n",
       "#T_b3cc4_row5_col10, #T_b3cc4_row5_col12, #T_b3cc4_row5_col13, #T_b3cc4_row10_col13, #T_b3cc4_row13_col10 {\n",
       "  background-color: #e7f6f9;\n",
       "  color: #000000;\n",
       "}\n",
       "#T_b3cc4_row6_col1, #T_b3cc4_row6_col3 {\n",
       "  background-color: #6cc4a8;\n",
       "  color: #000000;\n",
       "}\n",
       "#T_b3cc4_row6_col2 {\n",
       "  background-color: #65c2a3;\n",
       "  color: #000000;\n",
       "}\n",
       "#T_b3cc4_row6_col4 {\n",
       "  background-color: #64c1a2;\n",
       "  color: #000000;\n",
       "}\n",
       "#T_b3cc4_row6_col8, #T_b3cc4_row10_col12 {\n",
       "  background-color: #edf8fb;\n",
       "  color: #000000;\n",
       "}\n",
       "#T_b3cc4_row10_col0 {\n",
       "  background-color: #f1fafc;\n",
       "  color: #000000;\n",
       "}\n",
       "#T_b3cc4_row11_col0 {\n",
       "  background-color: #e3f4f7;\n",
       "  color: #000000;\n",
       "}\n",
       "#T_b3cc4_row11_col5, #T_b3cc4_row13_col5 {\n",
       "  background-color: #dbf2f2;\n",
       "  color: #000000;\n",
       "}\n",
       "#T_b3cc4_row11_col6 {\n",
       "  background-color: #cfede8;\n",
       "  color: #000000;\n",
       "}\n",
       "#T_b3cc4_row11_col13, #T_b3cc4_row13_col11 {\n",
       "  background-color: #e4f5f8;\n",
       "  color: #000000;\n",
       "}\n",
       "#T_b3cc4_row12_col5 {\n",
       "  background-color: #d7f0ee;\n",
       "  color: #000000;\n",
       "}\n",
       "#T_b3cc4_row12_col13 {\n",
       "  background-color: #e6f5f9;\n",
       "  color: #000000;\n",
       "}\n",
       "#T_b3cc4_row13_col0 {\n",
       "  background-color: #03702e;\n",
       "  color: #f1f1f1;\n",
       "}\n",
       "#T_b3cc4_row13_col1, #T_b3cc4_row13_col3 {\n",
       "  background-color: #80cdb7;\n",
       "  color: #000000;\n",
       "}\n",
       "#T_b3cc4_row13_col2, #T_b3cc4_row13_col4 {\n",
       "  background-color: #57ba92;\n",
       "  color: #f1f1f1;\n",
       "}\n",
       "#T_b3cc4_row13_col8 {\n",
       "  background-color: #f0f9fb;\n",
       "  color: #000000;\n",
       "}\n",
       "</style>\n",
       "<table id=\"T_b3cc4\">\n",
       "  <thead>\n",
       "    <tr>\n",
       "      <th class=\"blank level0\" >&nbsp;</th>\n",
       "      <th id=\"T_b3cc4_level0_col0\" class=\"col_heading level0 col0\" >fare_amount</th>\n",
       "      <th id=\"T_b3cc4_level0_col1\" class=\"col_heading level0 col1\" >pickup_longitude</th>\n",
       "      <th id=\"T_b3cc4_level0_col2\" class=\"col_heading level0 col2\" >pickup_latitude</th>\n",
       "      <th id=\"T_b3cc4_level0_col3\" class=\"col_heading level0 col3\" >dropoff_longitude</th>\n",
       "      <th id=\"T_b3cc4_level0_col4\" class=\"col_heading level0 col4\" >dropoff_latitude</th>\n",
       "      <th id=\"T_b3cc4_level0_col5\" class=\"col_heading level0 col5\" >passenger_count</th>\n",
       "      <th id=\"T_b3cc4_level0_col6\" class=\"col_heading level0 col6\" >second</th>\n",
       "      <th id=\"T_b3cc4_level0_col7\" class=\"col_heading level0 col7\" >minute</th>\n",
       "      <th id=\"T_b3cc4_level0_col8\" class=\"col_heading level0 col8\" >hour</th>\n",
       "      <th id=\"T_b3cc4_level0_col9\" class=\"col_heading level0 col9\" >day</th>\n",
       "      <th id=\"T_b3cc4_level0_col10\" class=\"col_heading level0 col10\" >month</th>\n",
       "      <th id=\"T_b3cc4_level0_col11\" class=\"col_heading level0 col11\" >year</th>\n",
       "      <th id=\"T_b3cc4_level0_col12\" class=\"col_heading level0 col12\" >dayofweek</th>\n",
       "      <th id=\"T_b3cc4_level0_col13\" class=\"col_heading level0 col13\" >Distance</th>\n",
       "    </tr>\n",
       "  </thead>\n",
       "  <tbody>\n",
       "    <tr>\n",
       "      <th id=\"T_b3cc4_level0_row0\" class=\"row_heading level0 row0\" >fare_amount</th>\n",
       "      <td id=\"T_b3cc4_row0_col0\" class=\"data row0 col0\" >1.000000</td>\n",
       "      <td id=\"T_b3cc4_row0_col1\" class=\"data row0 col1\" >0.005885</td>\n",
       "      <td id=\"T_b3cc4_row0_col2\" class=\"data row0 col2\" >-0.006253</td>\n",
       "      <td id=\"T_b3cc4_row0_col3\" class=\"data row0 col3\" >0.005501</td>\n",
       "      <td id=\"T_b3cc4_row0_col4\" class=\"data row0 col4\" >-0.006142</td>\n",
       "      <td id=\"T_b3cc4_row0_col5\" class=\"data row0 col5\" >0.011693</td>\n",
       "      <td id=\"T_b3cc4_row0_col6\" class=\"data row0 col6\" >-0.000995</td>\n",
       "      <td id=\"T_b3cc4_row0_col7\" class=\"data row0 col7\" >-0.007795</td>\n",
       "      <td id=\"T_b3cc4_row0_col8\" class=\"data row0 col8\" >-0.020692</td>\n",
       "      <td id=\"T_b3cc4_row0_col9\" class=\"data row0 col9\" >0.001059</td>\n",
       "      <td id=\"T_b3cc4_row0_col10\" class=\"data row0 col10\" >0.023759</td>\n",
       "      <td id=\"T_b3cc4_row0_col11\" class=\"data row0 col11\" >0.121195</td>\n",
       "      <td id=\"T_b3cc4_row0_col12\" class=\"data row0 col12\" >0.006181</td>\n",
       "      <td id=\"T_b3cc4_row0_col13\" class=\"data row0 col13\" >0.857729</td>\n",
       "    </tr>\n",
       "    <tr>\n",
       "      <th id=\"T_b3cc4_level0_row1\" class=\"row_heading level0 row1\" >pickup_longitude</th>\n",
       "      <td id=\"T_b3cc4_row1_col0\" class=\"data row1 col0\" >0.005885</td>\n",
       "      <td id=\"T_b3cc4_row1_col1\" class=\"data row1 col1\" >1.000000</td>\n",
       "      <td id=\"T_b3cc4_row1_col2\" class=\"data row1 col2\" >-0.973204</td>\n",
       "      <td id=\"T_b3cc4_row1_col3\" class=\"data row1 col3\" >0.999992</td>\n",
       "      <td id=\"T_b3cc4_row1_col4\" class=\"data row1 col4\" >-0.981941</td>\n",
       "      <td id=\"T_b3cc4_row1_col5\" class=\"data row1 col5\" >-0.000649</td>\n",
       "      <td id=\"T_b3cc4_row1_col6\" class=\"data row1 col6\" >-0.014677</td>\n",
       "      <td id=\"T_b3cc4_row1_col7\" class=\"data row1 col7\" >0.002796</td>\n",
       "      <td id=\"T_b3cc4_row1_col8\" class=\"data row1 col8\" >0.001547</td>\n",
       "      <td id=\"T_b3cc4_row1_col9\" class=\"data row1 col9\" >0.005300</td>\n",
       "      <td id=\"T_b3cc4_row1_col10\" class=\"data row1 col10\" >-0.002667</td>\n",
       "      <td id=\"T_b3cc4_row1_col11\" class=\"data row1 col11\" >0.005907</td>\n",
       "      <td id=\"T_b3cc4_row1_col12\" class=\"data row1 col12\" >0.003006</td>\n",
       "      <td id=\"T_b3cc4_row1_col13\" class=\"data row1 col13\" >-0.117044</td>\n",
       "    </tr>\n",
       "    <tr>\n",
       "      <th id=\"T_b3cc4_level0_row2\" class=\"row_heading level0 row2\" >pickup_latitude</th>\n",
       "      <td id=\"T_b3cc4_row2_col0\" class=\"data row2 col0\" >-0.006253</td>\n",
       "      <td id=\"T_b3cc4_row2_col1\" class=\"data row2 col1\" >-0.973204</td>\n",
       "      <td id=\"T_b3cc4_row2_col2\" class=\"data row2 col2\" >1.000000</td>\n",
       "      <td id=\"T_b3cc4_row2_col3\" class=\"data row2 col3\" >-0.973206</td>\n",
       "      <td id=\"T_b3cc4_row2_col4\" class=\"data row2 col4\" >0.991076</td>\n",
       "      <td id=\"T_b3cc4_row2_col5\" class=\"data row2 col5\" >-0.001190</td>\n",
       "      <td id=\"T_b3cc4_row2_col6\" class=\"data row2 col6\" >0.016809</td>\n",
       "      <td id=\"T_b3cc4_row2_col7\" class=\"data row2 col7\" >-0.002295</td>\n",
       "      <td id=\"T_b3cc4_row2_col8\" class=\"data row2 col8\" >-0.001823</td>\n",
       "      <td id=\"T_b3cc4_row2_col9\" class=\"data row2 col9\" >-0.008901</td>\n",
       "      <td id=\"T_b3cc4_row2_col10\" class=\"data row2 col10\" >0.004098</td>\n",
       "      <td id=\"T_b3cc4_row2_col11\" class=\"data row2 col11\" >-0.008466</td>\n",
       "      <td id=\"T_b3cc4_row2_col12\" class=\"data row2 col12\" >-0.004787</td>\n",
       "      <td id=\"T_b3cc4_row2_col13\" class=\"data row2 col13\" >0.110843</td>\n",
       "    </tr>\n",
       "    <tr>\n",
       "      <th id=\"T_b3cc4_level0_row3\" class=\"row_heading level0 row3\" >dropoff_longitude</th>\n",
       "      <td id=\"T_b3cc4_row3_col0\" class=\"data row3 col0\" >0.005501</td>\n",
       "      <td id=\"T_b3cc4_row3_col1\" class=\"data row3 col1\" >0.999992</td>\n",
       "      <td id=\"T_b3cc4_row3_col2\" class=\"data row3 col2\" >-0.973206</td>\n",
       "      <td id=\"T_b3cc4_row3_col3\" class=\"data row3 col3\" >1.000000</td>\n",
       "      <td id=\"T_b3cc4_row3_col4\" class=\"data row3 col4\" >-0.981942</td>\n",
       "      <td id=\"T_b3cc4_row3_col5\" class=\"data row3 col5\" >-0.000650</td>\n",
       "      <td id=\"T_b3cc4_row3_col6\" class=\"data row3 col6\" >-0.014638</td>\n",
       "      <td id=\"T_b3cc4_row3_col7\" class=\"data row3 col7\" >0.002803</td>\n",
       "      <td id=\"T_b3cc4_row3_col8\" class=\"data row3 col8\" >0.001316</td>\n",
       "      <td id=\"T_b3cc4_row3_col9\" class=\"data row3 col9\" >0.005307</td>\n",
       "      <td id=\"T_b3cc4_row3_col10\" class=\"data row3 col10\" >-0.002656</td>\n",
       "      <td id=\"T_b3cc4_row3_col11\" class=\"data row3 col11\" >0.005878</td>\n",
       "      <td id=\"T_b3cc4_row3_col12\" class=\"data row3 col12\" >0.003082</td>\n",
       "      <td id=\"T_b3cc4_row3_col13\" class=\"data row3 col13\" >-0.117282</td>\n",
       "    </tr>\n",
       "    <tr>\n",
       "      <th id=\"T_b3cc4_level0_row4\" class=\"row_heading level0 row4\" >dropoff_latitude</th>\n",
       "      <td id=\"T_b3cc4_row4_col0\" class=\"data row4 col0\" >-0.006142</td>\n",
       "      <td id=\"T_b3cc4_row4_col1\" class=\"data row4 col1\" >-0.981941</td>\n",
       "      <td id=\"T_b3cc4_row4_col2\" class=\"data row4 col2\" >0.991076</td>\n",
       "      <td id=\"T_b3cc4_row4_col3\" class=\"data row4 col3\" >-0.981942</td>\n",
       "      <td id=\"T_b3cc4_row4_col4\" class=\"data row4 col4\" >1.000000</td>\n",
       "      <td id=\"T_b3cc4_row4_col5\" class=\"data row4 col5\" >-0.001035</td>\n",
       "      <td id=\"T_b3cc4_row4_col6\" class=\"data row4 col6\" >0.017202</td>\n",
       "      <td id=\"T_b3cc4_row4_col7\" class=\"data row4 col7\" >-0.002593</td>\n",
       "      <td id=\"T_b3cc4_row4_col8\" class=\"data row4 col8\" >-0.001460</td>\n",
       "      <td id=\"T_b3cc4_row4_col9\" class=\"data row4 col9\" >-0.008900</td>\n",
       "      <td id=\"T_b3cc4_row4_col10\" class=\"data row4 col10\" >0.004143</td>\n",
       "      <td id=\"T_b3cc4_row4_col11\" class=\"data row4 col11\" >-0.008553</td>\n",
       "      <td id=\"T_b3cc4_row4_col12\" class=\"data row4 col12\" >-0.004648</td>\n",
       "      <td id=\"T_b3cc4_row4_col13\" class=\"data row4 col13\" >0.109486</td>\n",
       "    </tr>\n",
       "    <tr>\n",
       "      <th id=\"T_b3cc4_level0_row5\" class=\"row_heading level0 row5\" >passenger_count</th>\n",
       "      <td id=\"T_b3cc4_row5_col0\" class=\"data row5 col0\" >0.011693</td>\n",
       "      <td id=\"T_b3cc4_row5_col1\" class=\"data row5 col1\" >-0.000649</td>\n",
       "      <td id=\"T_b3cc4_row5_col2\" class=\"data row5 col2\" >-0.001190</td>\n",
       "      <td id=\"T_b3cc4_row5_col3\" class=\"data row5 col3\" >-0.000650</td>\n",
       "      <td id=\"T_b3cc4_row5_col4\" class=\"data row5 col4\" >-0.001035</td>\n",
       "      <td id=\"T_b3cc4_row5_col5\" class=\"data row5 col5\" >1.000000</td>\n",
       "      <td id=\"T_b3cc4_row5_col6\" class=\"data row5 col6\" >-0.202987</td>\n",
       "      <td id=\"T_b3cc4_row5_col7\" class=\"data row5 col7\" >0.000733</td>\n",
       "      <td id=\"T_b3cc4_row5_col8\" class=\"data row5 col8\" >0.013226</td>\n",
       "      <td id=\"T_b3cc4_row5_col9\" class=\"data row5 col9\" >0.003146</td>\n",
       "      <td id=\"T_b3cc4_row5_col10\" class=\"data row5 col10\" >0.009921</td>\n",
       "      <td id=\"T_b3cc4_row5_col11\" class=\"data row5 col11\" >0.004841</td>\n",
       "      <td id=\"T_b3cc4_row5_col12\" class=\"data row5 col12\" >0.033360</td>\n",
       "      <td id=\"T_b3cc4_row5_col13\" class=\"data row5 col13\" >0.007784</td>\n",
       "    </tr>\n",
       "    <tr>\n",
       "      <th id=\"T_b3cc4_level0_row6\" class=\"row_heading level0 row6\" >second</th>\n",
       "      <td id=\"T_b3cc4_row6_col0\" class=\"data row6 col0\" >-0.000995</td>\n",
       "      <td id=\"T_b3cc4_row6_col1\" class=\"data row6 col1\" >-0.014677</td>\n",
       "      <td id=\"T_b3cc4_row6_col2\" class=\"data row6 col2\" >0.016809</td>\n",
       "      <td id=\"T_b3cc4_row6_col3\" class=\"data row6 col3\" >-0.014638</td>\n",
       "      <td id=\"T_b3cc4_row6_col4\" class=\"data row6 col4\" >0.017202</td>\n",
       "      <td id=\"T_b3cc4_row6_col5\" class=\"data row6 col5\" >-0.202987</td>\n",
       "      <td id=\"T_b3cc4_row6_col6\" class=\"data row6 col6\" >1.000000</td>\n",
       "      <td id=\"T_b3cc4_row6_col7\" class=\"data row6 col7\" >0.001893</td>\n",
       "      <td id=\"T_b3cc4_row6_col8\" class=\"data row6 col8\" >-0.013419</td>\n",
       "      <td id=\"T_b3cc4_row6_col9\" class=\"data row6 col9\" >-0.002100</td>\n",
       "      <td id=\"T_b3cc4_row6_col10\" class=\"data row6 col10\" >-0.049734</td>\n",
       "      <td id=\"T_b3cc4_row6_col11\" class=\"data row6 col11\" >0.083106</td>\n",
       "      <td id=\"T_b3cc4_row6_col12\" class=\"data row6 col12\" >-0.000113</td>\n",
       "      <td id=\"T_b3cc4_row6_col13\" class=\"data row6 col13\" >-0.000350</td>\n",
       "    </tr>\n",
       "    <tr>\n",
       "      <th id=\"T_b3cc4_level0_row7\" class=\"row_heading level0 row7\" >minute</th>\n",
       "      <td id=\"T_b3cc4_row7_col0\" class=\"data row7 col0\" >-0.007795</td>\n",
       "      <td id=\"T_b3cc4_row7_col1\" class=\"data row7 col1\" >0.002796</td>\n",
       "      <td id=\"T_b3cc4_row7_col2\" class=\"data row7 col2\" >-0.002295</td>\n",
       "      <td id=\"T_b3cc4_row7_col3\" class=\"data row7 col3\" >0.002803</td>\n",
       "      <td id=\"T_b3cc4_row7_col4\" class=\"data row7 col4\" >-0.002593</td>\n",
       "      <td id=\"T_b3cc4_row7_col5\" class=\"data row7 col5\" >0.000733</td>\n",
       "      <td id=\"T_b3cc4_row7_col6\" class=\"data row7 col6\" >0.001893</td>\n",
       "      <td id=\"T_b3cc4_row7_col7\" class=\"data row7 col7\" >1.000000</td>\n",
       "      <td id=\"T_b3cc4_row7_col8\" class=\"data row7 col8\" >0.001352</td>\n",
       "      <td id=\"T_b3cc4_row7_col9\" class=\"data row7 col9\" >-0.001255</td>\n",
       "      <td id=\"T_b3cc4_row7_col10\" class=\"data row7 col10\" >-0.001606</td>\n",
       "      <td id=\"T_b3cc4_row7_col11\" class=\"data row7 col11\" >-0.002687</td>\n",
       "      <td id=\"T_b3cc4_row7_col12\" class=\"data row7 col12\" >-0.002405</td>\n",
       "      <td id=\"T_b3cc4_row7_col13\" class=\"data row7 col13\" >-0.007998</td>\n",
       "    </tr>\n",
       "    <tr>\n",
       "      <th id=\"T_b3cc4_level0_row8\" class=\"row_heading level0 row8\" >hour</th>\n",
       "      <td id=\"T_b3cc4_row8_col0\" class=\"data row8 col0\" >-0.020692</td>\n",
       "      <td id=\"T_b3cc4_row8_col1\" class=\"data row8 col1\" >0.001547</td>\n",
       "      <td id=\"T_b3cc4_row8_col2\" class=\"data row8 col2\" >-0.001823</td>\n",
       "      <td id=\"T_b3cc4_row8_col3\" class=\"data row8 col3\" >0.001316</td>\n",
       "      <td id=\"T_b3cc4_row8_col4\" class=\"data row8 col4\" >-0.001460</td>\n",
       "      <td id=\"T_b3cc4_row8_col5\" class=\"data row8 col5\" >0.013226</td>\n",
       "      <td id=\"T_b3cc4_row8_col6\" class=\"data row8 col6\" >-0.013419</td>\n",
       "      <td id=\"T_b3cc4_row8_col7\" class=\"data row8 col7\" >0.001352</td>\n",
       "      <td id=\"T_b3cc4_row8_col8\" class=\"data row8 col8\" >1.000000</td>\n",
       "      <td id=\"T_b3cc4_row8_col9\" class=\"data row8 col9\" >0.004849</td>\n",
       "      <td id=\"T_b3cc4_row8_col10\" class=\"data row8 col10\" >-0.003989</td>\n",
       "      <td id=\"T_b3cc4_row8_col11\" class=\"data row8 col11\" >0.002171</td>\n",
       "      <td id=\"T_b3cc4_row8_col12\" class=\"data row8 col12\" >-0.086995</td>\n",
       "      <td id=\"T_b3cc4_row8_col13\" class=\"data row8 col13\" >-0.031855</td>\n",
       "    </tr>\n",
       "    <tr>\n",
       "      <th id=\"T_b3cc4_level0_row9\" class=\"row_heading level0 row9\" >day</th>\n",
       "      <td id=\"T_b3cc4_row9_col0\" class=\"data row9 col0\" >0.001059</td>\n",
       "      <td id=\"T_b3cc4_row9_col1\" class=\"data row9 col1\" >0.005300</td>\n",
       "      <td id=\"T_b3cc4_row9_col2\" class=\"data row9 col2\" >-0.008901</td>\n",
       "      <td id=\"T_b3cc4_row9_col3\" class=\"data row9 col3\" >0.005307</td>\n",
       "      <td id=\"T_b3cc4_row9_col4\" class=\"data row9 col4\" >-0.008900</td>\n",
       "      <td id=\"T_b3cc4_row9_col5\" class=\"data row9 col5\" >0.003146</td>\n",
       "      <td id=\"T_b3cc4_row9_col6\" class=\"data row9 col6\" >-0.002100</td>\n",
       "      <td id=\"T_b3cc4_row9_col7\" class=\"data row9 col7\" >-0.001255</td>\n",
       "      <td id=\"T_b3cc4_row9_col8\" class=\"data row9 col8\" >0.004849</td>\n",
       "      <td id=\"T_b3cc4_row9_col9\" class=\"data row9 col9\" >1.000000</td>\n",
       "      <td id=\"T_b3cc4_row9_col10\" class=\"data row9 col10\" >-0.017330</td>\n",
       "      <td id=\"T_b3cc4_row9_col11\" class=\"data row9 col11\" >-0.012055</td>\n",
       "      <td id=\"T_b3cc4_row9_col12\" class=\"data row9 col12\" >0.005559</td>\n",
       "      <td id=\"T_b3cc4_row9_col13\" class=\"data row9 col13\" >0.000008</td>\n",
       "    </tr>\n",
       "    <tr>\n",
       "      <th id=\"T_b3cc4_level0_row10\" class=\"row_heading level0 row10\" >month</th>\n",
       "      <td id=\"T_b3cc4_row10_col0\" class=\"data row10 col0\" >0.023759</td>\n",
       "      <td id=\"T_b3cc4_row10_col1\" class=\"data row10 col1\" >-0.002667</td>\n",
       "      <td id=\"T_b3cc4_row10_col2\" class=\"data row10 col2\" >0.004098</td>\n",
       "      <td id=\"T_b3cc4_row10_col3\" class=\"data row10 col3\" >-0.002656</td>\n",
       "      <td id=\"T_b3cc4_row10_col4\" class=\"data row10 col4\" >0.004143</td>\n",
       "      <td id=\"T_b3cc4_row10_col5\" class=\"data row10 col5\" >0.009921</td>\n",
       "      <td id=\"T_b3cc4_row10_col6\" class=\"data row10 col6\" >-0.049734</td>\n",
       "      <td id=\"T_b3cc4_row10_col7\" class=\"data row10 col7\" >-0.001606</td>\n",
       "      <td id=\"T_b3cc4_row10_col8\" class=\"data row10 col8\" >-0.003989</td>\n",
       "      <td id=\"T_b3cc4_row10_col9\" class=\"data row10 col9\" >-0.017330</td>\n",
       "      <td id=\"T_b3cc4_row10_col10\" class=\"data row10 col10\" >1.000000</td>\n",
       "      <td id=\"T_b3cc4_row10_col11\" class=\"data row10 col11\" >-0.115940</td>\n",
       "      <td id=\"T_b3cc4_row10_col12\" class=\"data row10 col12\" >-0.008799</td>\n",
       "      <td id=\"T_b3cc4_row10_col13\" class=\"data row10 col13\" >0.011622</td>\n",
       "    </tr>\n",
       "    <tr>\n",
       "      <th id=\"T_b3cc4_level0_row11\" class=\"row_heading level0 row11\" >year</th>\n",
       "      <td id=\"T_b3cc4_row11_col0\" class=\"data row11 col0\" >0.121195</td>\n",
       "      <td id=\"T_b3cc4_row11_col1\" class=\"data row11 col1\" >0.005907</td>\n",
       "      <td id=\"T_b3cc4_row11_col2\" class=\"data row11 col2\" >-0.008466</td>\n",
       "      <td id=\"T_b3cc4_row11_col3\" class=\"data row11 col3\" >0.005878</td>\n",
       "      <td id=\"T_b3cc4_row11_col4\" class=\"data row11 col4\" >-0.008553</td>\n",
       "      <td id=\"T_b3cc4_row11_col5\" class=\"data row11 col5\" >0.004841</td>\n",
       "      <td id=\"T_b3cc4_row11_col6\" class=\"data row11 col6\" >0.083106</td>\n",
       "      <td id=\"T_b3cc4_row11_col7\" class=\"data row11 col7\" >-0.002687</td>\n",
       "      <td id=\"T_b3cc4_row11_col8\" class=\"data row11 col8\" >0.002171</td>\n",
       "      <td id=\"T_b3cc4_row11_col9\" class=\"data row11 col9\" >-0.012055</td>\n",
       "      <td id=\"T_b3cc4_row11_col10\" class=\"data row11 col10\" >-0.115940</td>\n",
       "      <td id=\"T_b3cc4_row11_col11\" class=\"data row11 col11\" >1.000000</td>\n",
       "      <td id=\"T_b3cc4_row11_col12\" class=\"data row11 col12\" >0.006007</td>\n",
       "      <td id=\"T_b3cc4_row11_col13\" class=\"data row11 col13\" >0.028619</td>\n",
       "    </tr>\n",
       "    <tr>\n",
       "      <th id=\"T_b3cc4_level0_row12\" class=\"row_heading level0 row12\" >dayofweek</th>\n",
       "      <td id=\"T_b3cc4_row12_col0\" class=\"data row12 col0\" >0.006181</td>\n",
       "      <td id=\"T_b3cc4_row12_col1\" class=\"data row12 col1\" >0.003006</td>\n",
       "      <td id=\"T_b3cc4_row12_col2\" class=\"data row12 col2\" >-0.004787</td>\n",
       "      <td id=\"T_b3cc4_row12_col3\" class=\"data row12 col3\" >0.003082</td>\n",
       "      <td id=\"T_b3cc4_row12_col4\" class=\"data row12 col4\" >-0.004648</td>\n",
       "      <td id=\"T_b3cc4_row12_col5\" class=\"data row12 col5\" >0.033360</td>\n",
       "      <td id=\"T_b3cc4_row12_col6\" class=\"data row12 col6\" >-0.000113</td>\n",
       "      <td id=\"T_b3cc4_row12_col7\" class=\"data row12 col7\" >-0.002405</td>\n",
       "      <td id=\"T_b3cc4_row12_col8\" class=\"data row12 col8\" >-0.086995</td>\n",
       "      <td id=\"T_b3cc4_row12_col9\" class=\"data row12 col9\" >0.005559</td>\n",
       "      <td id=\"T_b3cc4_row12_col10\" class=\"data row12 col10\" >-0.008799</td>\n",
       "      <td id=\"T_b3cc4_row12_col11\" class=\"data row12 col11\" >0.006007</td>\n",
       "      <td id=\"T_b3cc4_row12_col12\" class=\"data row12 col12\" >1.000000</td>\n",
       "      <td id=\"T_b3cc4_row12_col13\" class=\"data row12 col13\" >0.016905</td>\n",
       "    </tr>\n",
       "    <tr>\n",
       "      <th id=\"T_b3cc4_level0_row13\" class=\"row_heading level0 row13\" >Distance</th>\n",
       "      <td id=\"T_b3cc4_row13_col0\" class=\"data row13 col0\" >0.857729</td>\n",
       "      <td id=\"T_b3cc4_row13_col1\" class=\"data row13 col1\" >-0.117044</td>\n",
       "      <td id=\"T_b3cc4_row13_col2\" class=\"data row13 col2\" >0.110843</td>\n",
       "      <td id=\"T_b3cc4_row13_col3\" class=\"data row13 col3\" >-0.117282</td>\n",
       "      <td id=\"T_b3cc4_row13_col4\" class=\"data row13 col4\" >0.109486</td>\n",
       "      <td id=\"T_b3cc4_row13_col5\" class=\"data row13 col5\" >0.007784</td>\n",
       "      <td id=\"T_b3cc4_row13_col6\" class=\"data row13 col6\" >-0.000350</td>\n",
       "      <td id=\"T_b3cc4_row13_col7\" class=\"data row13 col7\" >-0.007998</td>\n",
       "      <td id=\"T_b3cc4_row13_col8\" class=\"data row13 col8\" >-0.031855</td>\n",
       "      <td id=\"T_b3cc4_row13_col9\" class=\"data row13 col9\" >0.000008</td>\n",
       "      <td id=\"T_b3cc4_row13_col10\" class=\"data row13 col10\" >0.011622</td>\n",
       "      <td id=\"T_b3cc4_row13_col11\" class=\"data row13 col11\" >0.028619</td>\n",
       "      <td id=\"T_b3cc4_row13_col12\" class=\"data row13 col12\" >0.016905</td>\n",
       "      <td id=\"T_b3cc4_row13_col13\" class=\"data row13 col13\" >1.000000</td>\n",
       "    </tr>\n",
       "  </tbody>\n",
       "</table>\n"
      ],
      "text/plain": [
       "<pandas.io.formats.style.Styler at 0x7f401de66860>"
      ]
     },
     "execution_count": 22,
     "metadata": {},
     "output_type": "execute_result"
    }
   ],
   "source": [
    "corr = df.corr()\n",
    "\n",
    "corr.style.background_gradient(cmap='BuGn')"
   ]
  },
  {
   "cell_type": "markdown",
   "id": "45cfdae7",
   "metadata": {},
   "source": [
    "# **Standardization**\n",
    "For more accurate results on our linear regression model"
   ]
  },
  {
   "cell_type": "code",
   "execution_count": 23,
   "id": "a39eacd4",
   "metadata": {},
   "outputs": [],
   "source": [
    "X = df['Distance'].values.reshape(-1, 1)        #Independent Variable\n",
    "y = df['fare_amount'].values.reshape(-1, 1)     #Dependent Variable"
   ]
  },
  {
   "cell_type": "code",
   "execution_count": 24,
   "id": "3fbcf4f5",
   "metadata": {},
   "outputs": [
    {
     "name": "stdout",
     "output_type": "stream",
     "text": [
      "[[-0.39820843]\n",
      " [-0.37738556]\n",
      " [ 0.1640092 ]\n",
      " ...\n",
      " [ 2.03806797]\n",
      " [ 0.3305922 ]\n",
      " [ 0.28894645]]\n",
      "[[-0.43819769]\n",
      " [-0.22258873]\n",
      " [ 0.49552213]\n",
      " ...\n",
      " [ 2.67145829]\n",
      " [ 0.07874908]\n",
      " [ 0.60173174]]\n"
     ]
    }
   ],
   "source": [
    "from sklearn.preprocessing import StandardScaler\n",
    "std = StandardScaler()\n",
    "y_std = std.fit_transform(y)\n",
    "print(y_std)\n",
    "\n",
    "x_std = std.fit_transform(X)\n",
    "print(x_std)"
   ]
  },
  {
   "cell_type": "markdown",
   "id": "8bc517f5",
   "metadata": {},
   "source": [
    "# **Splitting the Dataset**\n",
    "Training and Test Set"
   ]
  },
  {
   "cell_type": "code",
   "execution_count": 25,
   "id": "78e2bccb",
   "metadata": {},
   "outputs": [],
   "source": [
    "from sklearn.model_selection import train_test_split\n",
    "X_train, X_test, y_train, y_test = train_test_split(x_std, y_std, test_size=0.2, random_state=0)"
   ]
  },
  {
   "cell_type": "markdown",
   "id": "578176de",
   "metadata": {},
   "source": [
    "# **Simple Linear Regression**\n",
    "Training the simple linear regression model on the training set"
   ]
  },
  {
   "cell_type": "code",
   "execution_count": 26,
   "id": "06127272",
   "metadata": {},
   "outputs": [
    {
     "name": "stdout",
     "output_type": "stream",
     "text": [
      "Training set score: 0.74\n",
      "Test set score: 0.7340468\n"
     ]
    }
   ],
   "source": [
    "from sklearn.linear_model import LinearRegression\n",
    "l_reg = LinearRegression()\n",
    "l_reg.fit(X_train, y_train)\n",
    "\n",
    "print(\"Training set score: {:.2f}\".format(l_reg.score(X_train, y_train)))\n",
    "print(\"Test set score: {:.7f}\".format(l_reg.score(X_test, y_test)))"
   ]
  },
  {
   "cell_type": "code",
   "execution_count": 27,
   "id": "557f81c9",
   "metadata": {},
   "outputs": [
    {
     "data": {
      "text/html": [
       "<div>\n",
       "<style scoped>\n",
       "    .dataframe tbody tr th:only-of-type {\n",
       "        vertical-align: middle;\n",
       "    }\n",
       "\n",
       "    .dataframe tbody tr th {\n",
       "        vertical-align: top;\n",
       "    }\n",
       "\n",
       "    .dataframe thead th {\n",
       "        text-align: right;\n",
       "    }\n",
       "</style>\n",
       "<table border=\"1\" class=\"dataframe\">\n",
       "  <thead>\n",
       "    <tr style=\"text-align: right;\">\n",
       "      <th></th>\n",
       "      <th>Actual</th>\n",
       "      <th>Predicted</th>\n",
       "    </tr>\n",
       "  </thead>\n",
       "  <tbody>\n",
       "    <tr>\n",
       "      <th>6607</th>\n",
       "      <td>0.278535</td>\n",
       "      <td>0.256442</td>\n",
       "    </tr>\n",
       "    <tr>\n",
       "      <th>4656</th>\n",
       "      <td>0.747050</td>\n",
       "      <td>0.539006</td>\n",
       "    </tr>\n",
       "    <tr>\n",
       "      <th>38102</th>\n",
       "      <td>-0.294094</td>\n",
       "      <td>-0.360193</td>\n",
       "    </tr>\n",
       "    <tr>\n",
       "      <th>33546</th>\n",
       "      <td>-0.137922</td>\n",
       "      <td>-0.618219</td>\n",
       "    </tr>\n",
       "    <tr>\n",
       "      <th>26106</th>\n",
       "      <td>-0.335740</td>\n",
       "      <td>-0.255066</td>\n",
       "    </tr>\n",
       "    <tr>\n",
       "      <th>10178</th>\n",
       "      <td>-0.377386</td>\n",
       "      <td>-0.257612</td>\n",
       "    </tr>\n",
       "    <tr>\n",
       "      <th>4447</th>\n",
       "      <td>0.372238</td>\n",
       "      <td>0.351430</td>\n",
       "    </tr>\n",
       "    <tr>\n",
       "      <th>30142</th>\n",
       "      <td>-0.335740</td>\n",
       "      <td>-0.253503</td>\n",
       "    </tr>\n",
       "    <tr>\n",
       "      <th>37765</th>\n",
       "      <td>0.330592</td>\n",
       "      <td>0.189662</td>\n",
       "    </tr>\n",
       "    <tr>\n",
       "      <th>12811</th>\n",
       "      <td>0.642935</td>\n",
       "      <td>0.832901</td>\n",
       "    </tr>\n",
       "  </tbody>\n",
       "</table>\n",
       "</div>"
      ],
      "text/plain": [
       "         Actual  Predicted\n",
       "6607   0.278535   0.256442\n",
       "4656   0.747050   0.539006\n",
       "38102 -0.294094  -0.360193\n",
       "33546 -0.137922  -0.618219\n",
       "26106 -0.335740  -0.255066\n",
       "10178 -0.377386  -0.257612\n",
       "4447   0.372238   0.351430\n",
       "30142 -0.335740  -0.253503\n",
       "37765  0.330592   0.189662\n",
       "12811  0.642935   0.832901"
      ]
     },
     "execution_count": 27,
     "metadata": {},
     "output_type": "execute_result"
    }
   ],
   "source": [
    "y_pred = l_reg.predict(X_test)\n",
    "\n",
    "result = pd.DataFrame()\n",
    "result[['Actual']] = y_test\n",
    "result[['Predicted']] = y_pred\n",
    "\n",
    "result.sample(10)"
   ]
  },
  {
   "cell_type": "code",
   "execution_count": 28,
   "id": "b9e62dd5",
   "metadata": {},
   "outputs": [
    {
     "name": "stdout",
     "output_type": "stream",
     "text": [
      "Mean Absolute Error: 0.26621298757938955\n",
      "Mean Absolute % Error: 1.983074763340738\n",
      "Mean Squared Error: 0.2705243510778542\n",
      "Root Mean Squared Error: 0.5201195546005305\n",
      "R Squared (R²): 0.8567653080822022\n"
     ]
    }
   ],
   "source": [
    "print('Mean Absolute Error:', metrics.mean_absolute_error(y_test, y_pred))\n",
    "print('Mean Absolute % Error:', metrics.mean_absolute_percentage_error(y_test, y_pred))\n",
    "print('Mean Squared Error:', metrics.mean_squared_error(y_test, y_pred))\n",
    "print('Root Mean Squared Error:', np.sqrt(metrics.mean_squared_error(y_test, y_pred)))\n",
    "print('R Squared (R²):', np.sqrt(metrics.r2_score(y_test, y_pred)))"
   ]
  },
  {
   "cell_type": "markdown",
   "id": "3a9067cb",
   "metadata": {},
   "source": [
    "#### **Visualization**"
   ]
  },
  {
   "cell_type": "code",
   "execution_count": 29,
   "id": "f9e8135c",
   "metadata": {},
   "outputs": [
    {
     "data": {
      "image/png": "[encoded data removed]",
      "text/plain": [
       "<Figure size 432x288 with 2 Axes>"
      ]
     },
     "metadata": {
      "needs_background": "light"
     },
     "output_type": "display_data"
    }
   ],
   "source": [
    "plt.subplot(2, 2, 1)\n",
    "plt.scatter(X_train, y_train, color = 'red')\n",
    "plt.plot(X_train, l_reg.predict(X_train), color =\"blue\")\n",
    "plt.title(\"Fare vs Distance (Training Set)\")\n",
    "plt.ylabel(\"fare_amount\")\n",
    "plt.xlabel(\"Distance\")\n",
    "\n",
    "plt.subplot(2, 2, 2)\n",
    "plt.scatter(X_test, y_test, color = 'red')\n",
    "plt.plot(X_train, l_reg.predict(X_train), color =\"blue\")\n",
    "plt.ylabel(\"fare_amount\")\n",
    "plt.xlabel(\"Distance\")\n",
    "plt.title(\"Fare vs Distance (Test Set)\")\n",
    "\n",
    "plt.tight_layout()\n",
    "plt.show()"
   ]
  },
  {
   "cell_type": "code",
   "execution_count": 30,
   "id": "b1a3e64f",
   "metadata": {},
   "outputs": [
    {
     "data": {
      "text/html": [
       "<div>\n",
       "<style scoped>\n",
       "    .dataframe tbody tr th:only-of-type {\n",
       "        vertical-align: middle;\n",
       "    }\n",
       "\n",
       "    .dataframe tbody tr th {\n",
       "        vertical-align: top;\n",
       "    }\n",
       "\n",
       "    .dataframe thead th {\n",
       "        text-align: right;\n",
       "    }\n",
       "</style>\n",
       "<table border=\"1\" class=\"dataframe\">\n",
       "  <thead>\n",
       "    <tr style=\"text-align: right;\">\n",
       "      <th></th>\n",
       "      <th>Model</th>\n",
       "      <th>RMSE</th>\n",
       "      <th>R-Squared</th>\n",
       "    </tr>\n",
       "  </thead>\n",
       "  <tbody>\n",
       "    <tr>\n",
       "      <th>0</th>\n",
       "      <td>Linear Regresion model</td>\n",
       "      <td>0.52012</td>\n",
       "      <td>0.856765</td>\n",
       "    </tr>\n",
       "  </tbody>\n",
       "</table>\n",
       "</div>"
      ],
      "text/plain": [
       "                    Model     RMSE  R-Squared\n",
       "0  Linear Regresion model  0.52012   0.856765"
      ]
     },
     "execution_count": 30,
     "metadata": {},
     "output_type": "execute_result"
    }
   ],
   "source": [
    "cols = ['Model', 'RMSE', 'R-Squared']\n",
    "\n",
    "# create a empty dataframe of the colums\n",
    "# columns: specifies the columns to be selected\n",
    "result_tabulation = pd.DataFrame(columns = cols)\n",
    "\n",
    "# compile the required information\n",
    "linreg_metrics = pd.DataFrame([[\n",
    "     \"Linear Regresion model\",\n",
    "     np.sqrt(metrics.mean_squared_error(y_test, y_pred)),\n",
    "     np.sqrt(metrics.r2_score(y_test, y_pred))\n",
    "]], columns = cols)\n",
    "\n",
    "result_tabulation = pd.concat([result_tabulation, linreg_metrics], ignore_index=True)\n",
    "\n",
    "result_tabulation"
   ]
  },
  {
   "cell_type": "markdown",
   "id": "b503aa1b",
   "metadata": {},
   "source": [
    "# **RandomForestRegressor**\n",
    "Training the RandomForestRegressor model on the training set"
   ]
  },
  {
   "cell_type": "code",
   "execution_count": 31,
   "id": "229c9f00",
   "metadata": {},
   "outputs": [
    {
     "name": "stderr",
     "output_type": "stream",
     "text": [
      "/tmp/ipykernel_9174/2264728154.py:4: DataConversionWarning: A column-vector y was passed when a 1d array was expected. Please change the shape of y to (n_samples,), for example using ravel().\n",
      "  rf_reg.fit(X_train, y_train)\n"
     ]
    },
    {
     "data": {
      "text/html": [
       "<style>#sk-container-id-1 {color: black;background-color: white;}#sk-container-id-1 pre{padding: 0;}#sk-container-id-1 div.sk-toggleable {background-color: white;}#sk-container-id-1 label.sk-toggleable__label {cursor: pointer;display: block;width: 100%;margin-bottom: 0;padding: 0.3em;box-sizing: border-box;text-align: center;}#sk-container-id-1 label.sk-toggleable__label-arrow:before {content: \"▸\";float: left;margin-right: 0.25em;color: #696969;}#sk-container-id-1 label.sk-toggleable__label-arrow:hover:before {color: black;}#sk-container-id-1 div.sk-estimator:hover label.sk-toggleable__label-arrow:before {color: black;}#sk-container-id-1 div.sk-toggleable__content {max-height: 0;max-width: 0;overflow: hidden;text-align: left;background-color: #f0f8ff;}#sk-container-id-1 div.sk-toggleable__content pre {margin: 0.2em;color: black;border-radius: 0.25em;background-color: #f0f8ff;}#sk-container-id-1 input.sk-toggleable__control:checked~div.sk-toggleable__content {max-height: 200px;max-width: 100%;overflow: auto;}#sk-container-id-1 input.sk-toggleable__control:checked~label.sk-toggleable__label-arrow:before {content: \"▾\";}#sk-container-id-1 div.sk-estimator input.sk-toggleable__control:checked~label.sk-toggleable__label {background-color: #d4ebff;}#sk-container-id-1 div.sk-label input.sk-toggleable__control:checked~label.sk-toggleable__label {background-color: #d4ebff;}#sk-container-id-1 input.sk-hidden--visually {border: 0;clip: rect(1px 1px 1px 1px);clip: rect(1px, 1px, 1px, 1px);height: 1px;margin: -1px;overflow: hidden;padding: 0;position: absolute;width: 1px;}#sk-container-id-1 div.sk-estimator {font-family: monospace;background-color: #f0f8ff;border: 1px dotted black;border-radius: 0.25em;box-sizing: border-box;margin-bottom: 0.5em;}#sk-container-id-1 div.sk-estimator:hover {background-color: #d4ebff;}#sk-container-id-1 div.sk-parallel-item::after {content: \"\";width: 100%;border-bottom: 1px solid gray;flex-grow: 1;}#sk-container-id-1 div.sk-label:hover label.sk-toggleable__label {background-color: #d4ebff;}#sk-container-id-1 div.sk-serial::before {content: \"\";position: absolute;border-left: 1px solid gray;box-sizing: border-box;top: 0;bottom: 0;left: 50%;z-index: 0;}#sk-container-id-1 div.sk-serial {display: flex;flex-direction: column;align-items: center;background-color: white;padding-right: 0.2em;padding-left: 0.2em;position: relative;}#sk-container-id-1 div.sk-item {position: relative;z-index: 1;}#sk-container-id-1 div.sk-parallel {display: flex;align-items: stretch;justify-content: center;background-color: white;position: relative;}#sk-container-id-1 div.sk-item::before, #sk-container-id-1 div.sk-parallel-item::before {content: \"\";position: absolute;border-left: 1px solid gray;box-sizing: border-box;top: 0;bottom: 0;left: 50%;z-index: -1;}#sk-container-id-1 div.sk-parallel-item {display: flex;flex-direction: column;z-index: 1;position: relative;background-color: white;}#sk-container-id-1 div.sk-parallel-item:first-child::after {align-self: flex-end;width: 50%;}#sk-container-id-1 div.sk-parallel-item:last-child::after {align-self: flex-start;width: 50%;}#sk-container-id-1 div.sk-parallel-item:only-child::after {width: 0;}#sk-container-id-1 div.sk-dashed-wrapped {border: 1px dashed gray;margin: 0 0.4em 0.5em 0.4em;box-sizing: border-box;padding-bottom: 0.4em;background-color: white;}#sk-container-id-1 div.sk-label label {font-family: monospace;font-weight: bold;display: inline-block;line-height: 1.2em;}#sk-container-id-1 div.sk-label-container {text-align: center;}#sk-container-id-1 div.sk-container {/* jupyter's `normalize.less` sets `[hidden] { display: none; }` but bootstrap.min.css set `[hidden] { display: none !important; }` so we also need the `!important` here to be able to override the default hidden behavior on the sphinx rendered scikit-learn.org. See: https://github.com/scikit-learn/scikit-learn/issues/21755 */display: inline-block !important;position: relative;}#sk-container-id-1 div.sk-text-repr-fallback {display: none;}</style><div id=\"sk-container-id-1\" class=\"sk-top-container\"><div class=\"sk-text-repr-fallback\"><pre>RandomForestRegressor(random_state=10)</pre><b>In a Jupyter environment, please rerun this cell to show the HTML representation or trust the notebook. <br />On GitHub, the HTML representation is unable to render, please try loading this page with nbviewer.org.</b></div><div class=\"sk-container\" hidden><div class=\"sk-item\"><div class=\"sk-estimator sk-toggleable\"><input class=\"sk-toggleable__control sk-hidden--visually\" id=\"sk-estimator-id-1\" type=\"checkbox\" checked><label for=\"sk-estimator-id-1\" class=\"sk-toggleable__label sk-toggleable__label-arrow\">RandomForestRegressor</label><div class=\"sk-toggleable__content\"><pre>RandomForestRegressor(random_state=10)</pre></div></div></div></div></div>"
      ],
      "text/plain": [
       "RandomForestRegressor(random_state=10)"
      ]
     },
     "execution_count": 31,
     "metadata": {},
     "output_type": "execute_result"
    }
   ],
   "source": [
    "rf_reg = RandomForestRegressor(n_estimators=100, random_state=10)\n",
    "\n",
    "# fit the regressor with training dataset\n",
    "rf_reg.fit(X_train, y_train)"
   ]
  },
  {
   "cell_type": "code",
   "execution_count": 32,
   "id": "159626d0",
   "metadata": {},
   "outputs": [
    {
     "data": {
      "text/html": [
       "<div>\n",
       "<style scoped>\n",
       "    .dataframe tbody tr th:only-of-type {\n",
       "        vertical-align: middle;\n",
       "    }\n",
       "\n",
       "    .dataframe tbody tr th {\n",
       "        vertical-align: top;\n",
       "    }\n",
       "\n",
       "    .dataframe thead th {\n",
       "        text-align: right;\n",
       "    }\n",
       "</style>\n",
       "<table border=\"1\" class=\"dataframe\">\n",
       "  <thead>\n",
       "    <tr style=\"text-align: right;\">\n",
       "      <th></th>\n",
       "      <th>Actual</th>\n",
       "      <th>Predicted</th>\n",
       "    </tr>\n",
       "  </thead>\n",
       "  <tbody>\n",
       "    <tr>\n",
       "      <th>36840</th>\n",
       "      <td>-0.502323</td>\n",
       "      <td>-0.461350</td>\n",
       "    </tr>\n",
       "    <tr>\n",
       "      <th>20708</th>\n",
       "      <td>-0.419031</td>\n",
       "      <td>0.031472</td>\n",
       "    </tr>\n",
       "    <tr>\n",
       "      <th>14255</th>\n",
       "      <td>-0.814666</td>\n",
       "      <td>-0.783328</td>\n",
       "    </tr>\n",
       "    <tr>\n",
       "      <th>15882</th>\n",
       "      <td>-0.460677</td>\n",
       "      <td>-0.280559</td>\n",
       "    </tr>\n",
       "    <tr>\n",
       "      <th>4628</th>\n",
       "      <td>0.747050</td>\n",
       "      <td>1.350747</td>\n",
       "    </tr>\n",
       "    <tr>\n",
       "      <th>14809</th>\n",
       "      <td>0.226478</td>\n",
       "      <td>-0.074751</td>\n",
       "    </tr>\n",
       "    <tr>\n",
       "      <th>25913</th>\n",
       "      <td>-0.658494</td>\n",
       "      <td>-0.661410</td>\n",
       "    </tr>\n",
       "    <tr>\n",
       "      <th>30875</th>\n",
       "      <td>-0.460677</td>\n",
       "      <td>-0.408620</td>\n",
       "    </tr>\n",
       "    <tr>\n",
       "      <th>28673</th>\n",
       "      <td>-0.502323</td>\n",
       "      <td>-0.307421</td>\n",
       "    </tr>\n",
       "    <tr>\n",
       "      <th>32829</th>\n",
       "      <td>-0.554380</td>\n",
       "      <td>-0.447350</td>\n",
       "    </tr>\n",
       "  </tbody>\n",
       "</table>\n",
       "</div>"
      ],
      "text/plain": [
       "         Actual  Predicted\n",
       "36840 -0.502323  -0.461350\n",
       "20708 -0.419031   0.031472\n",
       "14255 -0.814666  -0.783328\n",
       "15882 -0.460677  -0.280559\n",
       "4628   0.747050   1.350747\n",
       "14809  0.226478  -0.074751\n",
       "25913 -0.658494  -0.661410\n",
       "30875 -0.460677  -0.408620\n",
       "28673 -0.502323  -0.307421\n",
       "32829 -0.554380  -0.447350"
      ]
     },
     "execution_count": 32,
     "metadata": {},
     "output_type": "execute_result"
    }
   ],
   "source": [
    "# predict the values on test dataset using predict()\n",
    "y_pred_RF = rf_reg.predict(X_test)\n",
    "\n",
    "result = pd.DataFrame()\n",
    "result[['Actual']] = y_test\n",
    "result['Predicted'] = y_pred_RF\n",
    "\n",
    "result.sample(10)"
   ]
  },
  {
   "cell_type": "code",
   "execution_count": 33,
   "id": "8f1cb75a",
   "metadata": {},
   "outputs": [
    {
     "name": "stdout",
     "output_type": "stream",
     "text": [
      "Mean Absolute Error: 0.3077087698385678\n",
      "Mean Absolute % Error: 2.161623761570947\n",
      "Mean Squared Error: 0.33297733033643484\n",
      "Root Mean Squared Error: 0.5770418791876677\n",
      "R Squared (R²): 0.8201518783882692\n"
     ]
    }
   ],
   "source": [
    "print('Mean Absolute Error:', metrics.mean_absolute_error(y_test, y_pred_RF))\n",
    "print('Mean Absolute % Error:', metrics.mean_absolute_percentage_error(y_test, y_pred_RF))\n",
    "print('Mean Squared Error:', metrics.mean_squared_error(y_test, y_pred_RF))\n",
    "print('Root Mean Squared Error:', np.sqrt(metrics.mean_squared_error(y_test, y_pred_RF)))\n",
    "print('R Squared (R²):', np.sqrt(metrics.r2_score(y_test, y_pred_RF)))"
   ]
  },
  {
   "cell_type": "markdown",
   "id": "fe30fb97",
   "metadata": {},
   "source": [
    "#### **Visualization**"
   ]
  },
  {
   "cell_type": "code",
   "execution_count": 34,
   "id": "e941498b",
   "metadata": {},
   "outputs": [
    {
     "data": {
      "image/png": "[encoded data removed]",
      "text/plain": [
       "<Figure size 432x288 with 1 Axes>"
      ]
     },
     "metadata": {
      "needs_background": "light"
     },
     "output_type": "display_data"
    }
   ],
   "source": [
    "# Build scatterplot\n",
    "plt.scatter(X_test, y_test, c = 'b', alpha = 0.5, marker = '.', label = 'Real')\n",
    "plt.scatter(X_test, y_pred_RF, c = 'r', alpha = 0.5, marker = '.', label = 'Predicted')\n",
    "plt.xlabel('Carat')\n",
    "plt.ylabel('Price')\n",
    "plt.grid(color = '#D3D3D3', linestyle = 'solid')\n",
    "plt.legend(loc = 'lower right')\n",
    "\n",
    "\n",
    "plt.tight_layout()\n",
    "plt.show()"
   ]
  },
  {
   "cell_type": "code",
   "execution_count": 35,
   "id": "c05bdc3b",
   "metadata": {},
   "outputs": [
    {
     "data": {
      "text/html": [
       "<div>\n",
       "<style scoped>\n",
       "    .dataframe tbody tr th:only-of-type {\n",
       "        vertical-align: middle;\n",
       "    }\n",
       "\n",
       "    .dataframe tbody tr th {\n",
       "        vertical-align: top;\n",
       "    }\n",
       "\n",
       "    .dataframe thead th {\n",
       "        text-align: right;\n",
       "    }\n",
       "</style>\n",
       "<table border=\"1\" class=\"dataframe\">\n",
       "  <thead>\n",
       "    <tr style=\"text-align: right;\">\n",
       "      <th></th>\n",
       "      <th>Model</th>\n",
       "      <th>RMSE</th>\n",
       "      <th>R-Squared</th>\n",
       "    </tr>\n",
       "  </thead>\n",
       "  <tbody>\n",
       "    <tr>\n",
       "      <th>0</th>\n",
       "      <td>Linear Regresion model</td>\n",
       "      <td>0.520120</td>\n",
       "      <td>0.856765</td>\n",
       "    </tr>\n",
       "    <tr>\n",
       "      <th>1</th>\n",
       "      <td>Random Forest Regressor model</td>\n",
       "      <td>0.577042</td>\n",
       "      <td>0.820152</td>\n",
       "    </tr>\n",
       "  </tbody>\n",
       "</table>\n",
       "</div>"
      ],
      "text/plain": [
       "                           Model      RMSE  R-Squared\n",
       "0         Linear Regresion model  0.520120   0.856765\n",
       "1  Random Forest Regressor model  0.577042   0.820152"
      ]
     },
     "execution_count": 35,
     "metadata": {},
     "output_type": "execute_result"
    }
   ],
   "source": [
    "# compile the required information\n",
    "random_forest_metrics = pd.DataFrame([[\n",
    "     \"Random Forest Regressor model\",\n",
    "     np.sqrt(metrics.mean_squared_error(y_test, y_pred_RF)),\n",
    "     np.sqrt(metrics.r2_score(y_test, y_pred_RF))\n",
    "]], columns = cols)\n",
    "\n",
    "result_tabulation = pd.concat([result_tabulation, random_forest_metrics], ignore_index=True)\n",
    "\n",
    "result_tabulation"
   ]
  }
 ],
 "metadata": {
  "kernelspec": {
   "display_name": "Python 3.10.4 64-bit",
   "language": "python",
   "name": "python3"
  },
  "language_info": {
   "codemirror_mode": {
    "name": "ipython",
    "version": 3
   },
   "file_extension": ".py",
   "mimetype": "text/x-python",
   "name": "python",
   "nbconvert_exporter": "python",
   "pygments_lexer": "ipython3",
   "version": "3.10.4"
  },
  "vscode": {
   "interpreter": {
    "hash": "916dbcbb3f70747c44a77c7bcd40155683ae19c65e1c03b4aa3499c5328201f1"
   }
  }
 },
 "nbformat": 4,
 "nbformat_minor": 5
}
